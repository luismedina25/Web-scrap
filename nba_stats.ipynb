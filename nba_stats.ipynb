{
 "cells": [
  {
   "cell_type": "markdown",
   "metadata": {},
   "source": [
    "# Web Scraping Basketball Reference Data "
   ]
  },
  {
   "cell_type": "markdown",
   "metadata": {},
   "source": [
    "I will be using the website Basteball-reference.com in order to scrap data of all players from this years season 2021-2022. This website provides clean sports data, thus making it easy to scrap the data and create my own dataframe. "
   ]
  },
  {
   "cell_type": "markdown",
   "metadata": {},
   "source": [
    "Now we use the libraries that we will need in order to begin web scraping the webpage. Then after that we will get the headers and rows then combine them into its own dataframe."
   ]
  },
  {
   "cell_type": "code",
   "execution_count": 1,
   "metadata": {},
   "outputs": [],
   "source": [
    "from urllib.request import urlopen\n",
    "from bs4 import BeautifulSoup\n",
    "import pandas as pd\n",
    "import numpy as np\n",
    "\n",
    "# url to scrape \n",
    "url = 'https://www.basketball-reference.com/leagues/NBA_2022_per_game.html'"
   ]
  },
  {
   "cell_type": "code",
   "execution_count": 2,
   "metadata": {},
   "outputs": [],
   "source": [
    "# collect HTML data \n",
    "html = urlopen(url)\n",
    "\n",
    "# create beautiful soup object from HTML\n",
    "soup = BeautifulSoup(html, features='lxml')"
   ]
  },
  {
   "cell_type": "code",
   "execution_count": 3,
   "metadata": {},
   "outputs": [
    {
     "data": {
      "text/plain": [
       "['Player',\n",
       " 'Pos',\n",
       " 'Age',\n",
       " 'Tm',\n",
       " 'G',\n",
       " 'GS',\n",
       " 'MP',\n",
       " 'FG',\n",
       " 'FGA',\n",
       " 'FG%',\n",
       " '3P',\n",
       " '3PA',\n",
       " '3P%',\n",
       " '2P',\n",
       " '2PA',\n",
       " '2P%',\n",
       " 'eFG%',\n",
       " 'FT',\n",
       " 'FTA',\n",
       " 'FT%',\n",
       " 'ORB',\n",
       " 'DRB',\n",
       " 'TRB',\n",
       " 'AST',\n",
       " 'STL',\n",
       " 'BLK',\n",
       " 'TOV',\n",
       " 'PF',\n",
       " 'PTS']"
      ]
     },
     "execution_count": 3,
     "metadata": {},
     "output_type": "execute_result"
    }
   ],
   "source": [
    "headers = [th.getText() for th in soup.findAll('tr', limit=2)[0].findAll('th')]\n",
    "headers.remove('Rk')\n",
    "headers"
   ]
  },
  {
   "cell_type": "code",
   "execution_count": 4,
   "metadata": {},
   "outputs": [
    {
     "data": {
      "text/plain": [
       "[['Precious Achiuwa',\n",
       "  'C',\n",
       "  '22',\n",
       "  'TOR',\n",
       "  '73',\n",
       "  '28',\n",
       "  '23.6',\n",
       "  '3.6',\n",
       "  '8.3',\n",
       "  '.439',\n",
       "  '0.8',\n",
       "  '2.1',\n",
       "  '.359',\n",
       "  '2.9',\n",
       "  '6.1',\n",
       "  '.468',\n",
       "  '.486',\n",
       "  '1.1',\n",
       "  '1.8',\n",
       "  '.595',\n",
       "  '2.0',\n",
       "  '4.5',\n",
       "  '6.5',\n",
       "  '1.1',\n",
       "  '0.5',\n",
       "  '0.6',\n",
       "  '1.2',\n",
       "  '2.1',\n",
       "  '9.1']]"
      ]
     },
     "execution_count": 4,
     "metadata": {},
     "output_type": "execute_result"
    }
   ],
   "source": [
    "# get rows from table\n",
    "rows = soup.findAll('tr')[1:]\n",
    "rows_data = [[td.getText() for td in rows[i].findAll('td')]\n",
    "                for i in range(len(rows))]\n",
    "\n",
    "rows_data[0:1]"
   ]
  },
  {
   "cell_type": "code",
   "execution_count": 5,
   "metadata": {},
   "outputs": [
    {
     "data": {
      "text/html": [
       "<div>\n",
       "<style scoped>\n",
       "    .dataframe tbody tr th:only-of-type {\n",
       "        vertical-align: middle;\n",
       "    }\n",
       "\n",
       "    .dataframe tbody tr th {\n",
       "        vertical-align: top;\n",
       "    }\n",
       "\n",
       "    .dataframe thead th {\n",
       "        text-align: right;\n",
       "    }\n",
       "</style>\n",
       "<table border=\"1\" class=\"dataframe\">\n",
       "  <thead>\n",
       "    <tr style=\"text-align: right;\">\n",
       "      <th></th>\n",
       "      <th>Player</th>\n",
       "      <th>Pos</th>\n",
       "      <th>Age</th>\n",
       "      <th>Tm</th>\n",
       "      <th>G</th>\n",
       "      <th>GS</th>\n",
       "      <th>MP</th>\n",
       "      <th>FG</th>\n",
       "      <th>FGA</th>\n",
       "      <th>FG%</th>\n",
       "      <th>...</th>\n",
       "      <th>FT%</th>\n",
       "      <th>ORB</th>\n",
       "      <th>DRB</th>\n",
       "      <th>TRB</th>\n",
       "      <th>AST</th>\n",
       "      <th>STL</th>\n",
       "      <th>BLK</th>\n",
       "      <th>TOV</th>\n",
       "      <th>PF</th>\n",
       "      <th>PTS</th>\n",
       "    </tr>\n",
       "  </thead>\n",
       "  <tbody>\n",
       "    <tr>\n",
       "      <th>0</th>\n",
       "      <td>Precious Achiuwa</td>\n",
       "      <td>C</td>\n",
       "      <td>22</td>\n",
       "      <td>TOR</td>\n",
       "      <td>73</td>\n",
       "      <td>28</td>\n",
       "      <td>23.6</td>\n",
       "      <td>3.6</td>\n",
       "      <td>8.3</td>\n",
       "      <td>.439</td>\n",
       "      <td>...</td>\n",
       "      <td>.595</td>\n",
       "      <td>2.0</td>\n",
       "      <td>4.5</td>\n",
       "      <td>6.5</td>\n",
       "      <td>1.1</td>\n",
       "      <td>0.5</td>\n",
       "      <td>0.6</td>\n",
       "      <td>1.2</td>\n",
       "      <td>2.1</td>\n",
       "      <td>9.1</td>\n",
       "    </tr>\n",
       "    <tr>\n",
       "      <th>1</th>\n",
       "      <td>Steven Adams</td>\n",
       "      <td>C</td>\n",
       "      <td>28</td>\n",
       "      <td>MEM</td>\n",
       "      <td>76</td>\n",
       "      <td>75</td>\n",
       "      <td>26.3</td>\n",
       "      <td>2.8</td>\n",
       "      <td>5.1</td>\n",
       "      <td>.547</td>\n",
       "      <td>...</td>\n",
       "      <td>.543</td>\n",
       "      <td>4.6</td>\n",
       "      <td>5.4</td>\n",
       "      <td>10.0</td>\n",
       "      <td>3.4</td>\n",
       "      <td>0.9</td>\n",
       "      <td>0.8</td>\n",
       "      <td>1.5</td>\n",
       "      <td>2.0</td>\n",
       "      <td>6.9</td>\n",
       "    </tr>\n",
       "    <tr>\n",
       "      <th>2</th>\n",
       "      <td>Bam Adebayo</td>\n",
       "      <td>C</td>\n",
       "      <td>24</td>\n",
       "      <td>MIA</td>\n",
       "      <td>56</td>\n",
       "      <td>56</td>\n",
       "      <td>32.6</td>\n",
       "      <td>7.3</td>\n",
       "      <td>13.0</td>\n",
       "      <td>.557</td>\n",
       "      <td>...</td>\n",
       "      <td>.753</td>\n",
       "      <td>2.4</td>\n",
       "      <td>7.6</td>\n",
       "      <td>10.1</td>\n",
       "      <td>3.4</td>\n",
       "      <td>1.4</td>\n",
       "      <td>0.8</td>\n",
       "      <td>2.6</td>\n",
       "      <td>3.1</td>\n",
       "      <td>19.1</td>\n",
       "    </tr>\n",
       "    <tr>\n",
       "      <th>3</th>\n",
       "      <td>Santi Aldama</td>\n",
       "      <td>PF</td>\n",
       "      <td>21</td>\n",
       "      <td>MEM</td>\n",
       "      <td>32</td>\n",
       "      <td>0</td>\n",
       "      <td>11.3</td>\n",
       "      <td>1.7</td>\n",
       "      <td>4.1</td>\n",
       "      <td>.402</td>\n",
       "      <td>...</td>\n",
       "      <td>.625</td>\n",
       "      <td>1.0</td>\n",
       "      <td>1.7</td>\n",
       "      <td>2.7</td>\n",
       "      <td>0.7</td>\n",
       "      <td>0.2</td>\n",
       "      <td>0.3</td>\n",
       "      <td>0.5</td>\n",
       "      <td>1.1</td>\n",
       "      <td>4.1</td>\n",
       "    </tr>\n",
       "    <tr>\n",
       "      <th>4</th>\n",
       "      <td>LaMarcus Aldridge</td>\n",
       "      <td>C</td>\n",
       "      <td>36</td>\n",
       "      <td>BRK</td>\n",
       "      <td>47</td>\n",
       "      <td>12</td>\n",
       "      <td>22.3</td>\n",
       "      <td>5.4</td>\n",
       "      <td>9.7</td>\n",
       "      <td>.550</td>\n",
       "      <td>...</td>\n",
       "      <td>.873</td>\n",
       "      <td>1.6</td>\n",
       "      <td>3.9</td>\n",
       "      <td>5.5</td>\n",
       "      <td>0.9</td>\n",
       "      <td>0.3</td>\n",
       "      <td>1.0</td>\n",
       "      <td>0.9</td>\n",
       "      <td>1.7</td>\n",
       "      <td>12.9</td>\n",
       "    </tr>\n",
       "    <tr>\n",
       "      <th>...</th>\n",
       "      <td>...</td>\n",
       "      <td>...</td>\n",
       "      <td>...</td>\n",
       "      <td>...</td>\n",
       "      <td>...</td>\n",
       "      <td>...</td>\n",
       "      <td>...</td>\n",
       "      <td>...</td>\n",
       "      <td>...</td>\n",
       "      <td>...</td>\n",
       "      <td>...</td>\n",
       "      <td>...</td>\n",
       "      <td>...</td>\n",
       "      <td>...</td>\n",
       "      <td>...</td>\n",
       "      <td>...</td>\n",
       "      <td>...</td>\n",
       "      <td>...</td>\n",
       "      <td>...</td>\n",
       "      <td>...</td>\n",
       "      <td>...</td>\n",
       "    </tr>\n",
       "    <tr>\n",
       "      <th>837</th>\n",
       "      <td>Thaddeus Young</td>\n",
       "      <td>PF</td>\n",
       "      <td>33</td>\n",
       "      <td>TOR</td>\n",
       "      <td>26</td>\n",
       "      <td>0</td>\n",
       "      <td>18.3</td>\n",
       "      <td>2.6</td>\n",
       "      <td>5.5</td>\n",
       "      <td>.465</td>\n",
       "      <td>...</td>\n",
       "      <td>.481</td>\n",
       "      <td>1.5</td>\n",
       "      <td>2.9</td>\n",
       "      <td>4.4</td>\n",
       "      <td>1.7</td>\n",
       "      <td>1.2</td>\n",
       "      <td>0.4</td>\n",
       "      <td>0.8</td>\n",
       "      <td>1.7</td>\n",
       "      <td>6.3</td>\n",
       "    </tr>\n",
       "    <tr>\n",
       "      <th>838</th>\n",
       "      <td>Trae Young</td>\n",
       "      <td>PG</td>\n",
       "      <td>23</td>\n",
       "      <td>ATL</td>\n",
       "      <td>76</td>\n",
       "      <td>76</td>\n",
       "      <td>34.9</td>\n",
       "      <td>9.4</td>\n",
       "      <td>20.3</td>\n",
       "      <td>.460</td>\n",
       "      <td>...</td>\n",
       "      <td>.904</td>\n",
       "      <td>0.7</td>\n",
       "      <td>3.1</td>\n",
       "      <td>3.7</td>\n",
       "      <td>9.7</td>\n",
       "      <td>0.9</td>\n",
       "      <td>0.1</td>\n",
       "      <td>4.0</td>\n",
       "      <td>1.7</td>\n",
       "      <td>28.4</td>\n",
       "    </tr>\n",
       "    <tr>\n",
       "      <th>839</th>\n",
       "      <td>Omer Yurtseven</td>\n",
       "      <td>C</td>\n",
       "      <td>23</td>\n",
       "      <td>MIA</td>\n",
       "      <td>56</td>\n",
       "      <td>12</td>\n",
       "      <td>12.6</td>\n",
       "      <td>2.3</td>\n",
       "      <td>4.4</td>\n",
       "      <td>.526</td>\n",
       "      <td>...</td>\n",
       "      <td>.623</td>\n",
       "      <td>1.5</td>\n",
       "      <td>3.7</td>\n",
       "      <td>5.3</td>\n",
       "      <td>0.9</td>\n",
       "      <td>0.3</td>\n",
       "      <td>0.4</td>\n",
       "      <td>0.7</td>\n",
       "      <td>1.5</td>\n",
       "      <td>5.3</td>\n",
       "    </tr>\n",
       "    <tr>\n",
       "      <th>840</th>\n",
       "      <td>Cody Zeller</td>\n",
       "      <td>C</td>\n",
       "      <td>29</td>\n",
       "      <td>POR</td>\n",
       "      <td>27</td>\n",
       "      <td>0</td>\n",
       "      <td>13.1</td>\n",
       "      <td>1.9</td>\n",
       "      <td>3.3</td>\n",
       "      <td>.567</td>\n",
       "      <td>...</td>\n",
       "      <td>.776</td>\n",
       "      <td>1.9</td>\n",
       "      <td>2.8</td>\n",
       "      <td>4.6</td>\n",
       "      <td>0.8</td>\n",
       "      <td>0.3</td>\n",
       "      <td>0.2</td>\n",
       "      <td>0.7</td>\n",
       "      <td>2.1</td>\n",
       "      <td>5.2</td>\n",
       "    </tr>\n",
       "    <tr>\n",
       "      <th>841</th>\n",
       "      <td>Ivica Zubac</td>\n",
       "      <td>C</td>\n",
       "      <td>24</td>\n",
       "      <td>LAC</td>\n",
       "      <td>76</td>\n",
       "      <td>76</td>\n",
       "      <td>24.4</td>\n",
       "      <td>4.1</td>\n",
       "      <td>6.5</td>\n",
       "      <td>.626</td>\n",
       "      <td>...</td>\n",
       "      <td>.727</td>\n",
       "      <td>2.9</td>\n",
       "      <td>5.6</td>\n",
       "      <td>8.5</td>\n",
       "      <td>1.6</td>\n",
       "      <td>0.5</td>\n",
       "      <td>1.0</td>\n",
       "      <td>1.5</td>\n",
       "      <td>2.7</td>\n",
       "      <td>10.3</td>\n",
       "    </tr>\n",
       "  </tbody>\n",
       "</table>\n",
       "<p>842 rows × 29 columns</p>\n",
       "</div>"
      ],
      "text/plain": [
       "                Player Pos Age   Tm   G  GS    MP   FG   FGA   FG%  ...   FT%  \\\n",
       "0     Precious Achiuwa   C  22  TOR  73  28  23.6  3.6   8.3  .439  ...  .595   \n",
       "1         Steven Adams   C  28  MEM  76  75  26.3  2.8   5.1  .547  ...  .543   \n",
       "2          Bam Adebayo   C  24  MIA  56  56  32.6  7.3  13.0  .557  ...  .753   \n",
       "3         Santi Aldama  PF  21  MEM  32   0  11.3  1.7   4.1  .402  ...  .625   \n",
       "4    LaMarcus Aldridge   C  36  BRK  47  12  22.3  5.4   9.7  .550  ...  .873   \n",
       "..                 ...  ..  ..  ...  ..  ..   ...  ...   ...   ...  ...   ...   \n",
       "837     Thaddeus Young  PF  33  TOR  26   0  18.3  2.6   5.5  .465  ...  .481   \n",
       "838         Trae Young  PG  23  ATL  76  76  34.9  9.4  20.3  .460  ...  .904   \n",
       "839     Omer Yurtseven   C  23  MIA  56  12  12.6  2.3   4.4  .526  ...  .623   \n",
       "840        Cody Zeller   C  29  POR  27   0  13.1  1.9   3.3  .567  ...  .776   \n",
       "841        Ivica Zubac   C  24  LAC  76  76  24.4  4.1   6.5  .626  ...  .727   \n",
       "\n",
       "     ORB  DRB   TRB  AST  STL  BLK  TOV   PF   PTS  \n",
       "0    2.0  4.5   6.5  1.1  0.5  0.6  1.2  2.1   9.1  \n",
       "1    4.6  5.4  10.0  3.4  0.9  0.8  1.5  2.0   6.9  \n",
       "2    2.4  7.6  10.1  3.4  1.4  0.8  2.6  3.1  19.1  \n",
       "3    1.0  1.7   2.7  0.7  0.2  0.3  0.5  1.1   4.1  \n",
       "4    1.6  3.9   5.5  0.9  0.3  1.0  0.9  1.7  12.9  \n",
       "..   ...  ...   ...  ...  ...  ...  ...  ...   ...  \n",
       "837  1.5  2.9   4.4  1.7  1.2  0.4  0.8  1.7   6.3  \n",
       "838  0.7  3.1   3.7  9.7  0.9  0.1  4.0  1.7  28.4  \n",
       "839  1.5  3.7   5.3  0.9  0.3  0.4  0.7  1.5   5.3  \n",
       "840  1.9  2.8   4.6  0.8  0.3  0.2  0.7  2.1   5.2  \n",
       "841  2.9  5.6   8.5  1.6  0.5  1.0  1.5  2.7  10.3  \n",
       "\n",
       "[842 rows x 29 columns]"
      ]
     },
     "execution_count": 5,
     "metadata": {},
     "output_type": "execute_result"
    }
   ],
   "source": [
    "# now we create a dataframe with the data from rows and the headers\n",
    "stats = pd.DataFrame(rows_data, columns=headers)\n",
    "stats"
   ]
  },
  {
   "cell_type": "markdown",
   "metadata": {},
   "source": [
    "We will now check to see if the data has any missing values and if it does we will drop thos rows."
   ]
  },
  {
   "cell_type": "code",
   "execution_count": 6,
   "metadata": {},
   "outputs": [
    {
     "data": {
      "text/plain": [
       "Player    30\n",
       "Pos       30\n",
       "Age       30\n",
       "Tm        30\n",
       "G         30\n",
       "GS        30\n",
       "MP        30\n",
       "FG        30\n",
       "FGA       30\n",
       "FG%       30\n",
       "3P        30\n",
       "3PA       30\n",
       "3P%       30\n",
       "2P        30\n",
       "2PA       30\n",
       "2P%       30\n",
       "eFG%      30\n",
       "FT        30\n",
       "FTA       30\n",
       "FT%       30\n",
       "ORB       30\n",
       "DRB       30\n",
       "TRB       30\n",
       "AST       30\n",
       "STL       30\n",
       "BLK       30\n",
       "TOV       30\n",
       "PF        30\n",
       "PTS       30\n",
       "dtype: int64"
      ]
     },
     "execution_count": 6,
     "metadata": {},
     "output_type": "execute_result"
    }
   ],
   "source": [
    "# check to see if we have any missing values\n",
    "stats.isnull().sum()"
   ]
  },
  {
   "cell_type": "code",
   "execution_count": 7,
   "metadata": {},
   "outputs": [],
   "source": [
    "# drop the rows with missing values\n",
    "stats.dropna(axis=0, inplace=True)"
   ]
  },
  {
   "cell_type": "code",
   "execution_count": 8,
   "metadata": {},
   "outputs": [
    {
     "data": {
      "text/plain": [
       "Player    0\n",
       "Pos       0\n",
       "Age       0\n",
       "Tm        0\n",
       "G         0\n",
       "GS        0\n",
       "MP        0\n",
       "FG        0\n",
       "FGA       0\n",
       "FG%       0\n",
       "3P        0\n",
       "3PA       0\n",
       "3P%       0\n",
       "2P        0\n",
       "2PA       0\n",
       "2P%       0\n",
       "eFG%      0\n",
       "FT        0\n",
       "FTA       0\n",
       "FT%       0\n",
       "ORB       0\n",
       "DRB       0\n",
       "TRB       0\n",
       "AST       0\n",
       "STL       0\n",
       "BLK       0\n",
       "TOV       0\n",
       "PF        0\n",
       "PTS       0\n",
       "dtype: int64"
      ]
     },
     "execution_count": 8,
     "metadata": {},
     "output_type": "execute_result"
    }
   ],
   "source": [
    "# check to make sure we dropped all the rows with missing values\n",
    "stats.isnull().sum()"
   ]
  },
  {
   "cell_type": "code",
   "execution_count": 9,
   "metadata": {},
   "outputs": [],
   "source": [
    "# we reset the index of the dataframe after dropping the rows that are missing values\n",
    "stats = stats.reset_index(drop=True)\n"
   ]
  },
  {
   "cell_type": "code",
   "execution_count": 10,
   "metadata": {},
   "outputs": [
    {
     "data": {
      "text/plain": [
       "Player    object\n",
       "Pos       object\n",
       "Age       object\n",
       "Tm        object\n",
       "G         object\n",
       "GS        object\n",
       "MP        object\n",
       "FG        object\n",
       "FGA       object\n",
       "FG%       object\n",
       "3P        object\n",
       "3PA       object\n",
       "3P%       object\n",
       "2P        object\n",
       "2PA       object\n",
       "2P%       object\n",
       "eFG%      object\n",
       "FT        object\n",
       "FTA       object\n",
       "FT%       object\n",
       "ORB       object\n",
       "DRB       object\n",
       "TRB       object\n",
       "AST       object\n",
       "STL       object\n",
       "BLK       object\n",
       "TOV       object\n",
       "PF        object\n",
       "PTS       object\n",
       "dtype: object"
      ]
     },
     "execution_count": 10,
     "metadata": {},
     "output_type": "execute_result"
    }
   ],
   "source": [
    "stats.dtypes "
   ]
  },
  {
   "cell_type": "markdown",
   "metadata": {},
   "source": [
    "Looking at the dataframe we see that all the rows on objects and this is a problem because we need it to be numeric if we want to perform any data analysis on the data. But first I will make a copy of the data."
   ]
  },
  {
   "cell_type": "code",
   "execution_count": 11,
   "metadata": {},
   "outputs": [],
   "source": [
    "NBA_season_2021_2022 = stats.copy()"
   ]
  },
  {
   "cell_type": "markdown",
   "metadata": {},
   "source": [
    "When looking at the data for some of the players they had some rows with an empty string causing problems with converting the data into a float, so I will add a zero inplace for those data points. "
   ]
  },
  {
   "cell_type": "code",
   "execution_count": 12,
   "metadata": {},
   "outputs": [],
   "source": [
    "#loop through all of the dataframe to add a '0' where there is an empty string\n",
    "for column in NBA_season_2021_2022.columns:\n",
    "    if column != 'Player' and column != 'Pos' and column != 'Tm':\n",
    "        for i in range(len(NBA_season_2021_2022[column])):\n",
    "            if(len(NBA_season_2021_2022[column][i]) == 0):\n",
    "                NBA_season_2021_2022[column][i] = '0'\n",
    "            else:\n",
    "                NBA_season_2021_2022[column][i] = float(NBA_season_2021_2022[column][i])\n",
    "    else:\n",
    "        continue    "
   ]
  },
  {
   "cell_type": "markdown",
   "metadata": {},
   "source": [
    "Now we can finally convert the columns that we need to floats in order to perform data analysis."
   ]
  },
  {
   "cell_type": "code",
   "execution_count": 13,
   "metadata": {},
   "outputs": [],
   "source": [
    "# convert all the columns with numbers into floats instead of objects\n",
    "NBA_season_2021_2022[['Age', 'G', 'GS', 'MP','FG', 'FGA']] = NBA_season_2021_2022[['Age', 'G', 'GS', 'MP','FG','FGA']].astype(float)\n",
    "NBA_season_2021_2022[['3P', '3PA', '2P', '2PA', 'FT', 'FTA', 'ORB', 'DRB', 'TRB', 'AST', 'STL', 'BLK', 'TOV', 'PF', 'PTS']] = NBA_season_2021_2022[['3P', '3PA', '2P', '2PA', 'FT', 'FTA', 'ORB', 'DRB', 'TRB', 'AST', 'STL', 'BLK', 'TOV', 'PF', 'PTS']].astype(float)\n",
    "NBA_season_2021_2022[['FG%', '3P%', '2P%', 'eFG%', 'FT%']] = NBA_season_2021_2022[['FG%', '3P%', '2P%', 'eFG%', 'FT%']].astype(float)"
   ]
  },
  {
   "cell_type": "code",
   "execution_count": 14,
   "metadata": {},
   "outputs": [
    {
     "data": {
      "text/plain": [
       "Player     object\n",
       "Pos        object\n",
       "Age       float64\n",
       "Tm         object\n",
       "G         float64\n",
       "GS        float64\n",
       "MP        float64\n",
       "FG        float64\n",
       "FGA       float64\n",
       "FG%       float64\n",
       "3P        float64\n",
       "3PA       float64\n",
       "3P%       float64\n",
       "2P        float64\n",
       "2PA       float64\n",
       "2P%       float64\n",
       "eFG%      float64\n",
       "FT        float64\n",
       "FTA       float64\n",
       "FT%       float64\n",
       "ORB       float64\n",
       "DRB       float64\n",
       "TRB       float64\n",
       "AST       float64\n",
       "STL       float64\n",
       "BLK       float64\n",
       "TOV       float64\n",
       "PF        float64\n",
       "PTS       float64\n",
       "dtype: object"
      ]
     },
     "execution_count": 14,
     "metadata": {},
     "output_type": "execute_result"
    }
   ],
   "source": [
    "NBA_season_2021_2022.dtypes"
   ]
  },
  {
   "cell_type": "markdown",
   "metadata": {},
   "source": [
    "Now I will make a function in order to gather stats data from other years instead of just the most recent season and clean up the dataframe in order to perform data analysis"
   ]
  },
  {
   "cell_type": "code",
   "execution_count": 15,
   "metadata": {},
   "outputs": [],
   "source": [
    "# import needed libraries\n",
    "from urllib.request import urlopen\n",
    "from bs4 import BeautifulSoup\n",
    "import pandas as pd\n",
    "import numpy as np\n",
    "\n",
    "\n",
    "# create a function that will take in a year and create a dataframe by scraping basketball reference\n",
    "def scrape_nba_data(years):\n",
    "    # the url to scrape\n",
    "    url = f'https://www.basketball-reference.com/leagues/NBA_{years}_per_game.html'\n",
    "\n",
    "    html = urlopen(url)\n",
    "    # create beautiful soup object from the html\n",
    "    soup = BeautifulSoup(html, features='lxml')\n",
    "\n",
    "    # get the headers for the columns\n",
    "    headers = [th.getText() for th in soup.findAll('tr', limit=2)[0].findAll('th')]\n",
    "    headers.remove('Rk')\n",
    "\n",
    "    # get the rows from the table\n",
    "    rows = soup.findAll('tr')[1:]\n",
    "    rows_data = [[td.getText() for td in rows[i].findAll('td')]\n",
    "                    for i in range(len(rows))]\n",
    "    \n",
    "    # now we create a dataframe with the data from rows and the headers\n",
    "    df = pd.DataFrame(rows_data, columns=headers)\n",
    "\n",
    "    #drop the rows with missing values\n",
    "    df.dropna(axis=0, inplace=True)\n",
    "    df = df.reset_index(drop=True)\n",
    "\n",
    "    # loop through all of the dataframe to add a '0' where there is an empty string\n",
    "    for column in df.columns:\n",
    "        if column != 'Player' and column != 'Pos' and column != 'Tm':\n",
    "            for i in range(len(df[column])):\n",
    "                if(len(df[column][i]) == 0):\n",
    "                    df[column][i] = '0'\n",
    "                else:\n",
    "                    df[column][i] = float(df[column][i])\n",
    "        else:\n",
    "            continue\n",
    "    \n",
    "    # convert all the columns with numbers into floats instead of objects\n",
    "    df[['Age', 'G', 'GS', 'MP','FG', 'FGA']] = df[['Age', 'G', 'GS', 'MP','FG','FGA']].astype(float)\n",
    "    df[['3P', '3PA', '2P', '2PA', 'FT', 'FTA', 'ORB', 'DRB', 'TRB', 'AST', 'STL', 'BLK', 'TOV', 'PF', 'PTS']] = df[['3P', '3PA', '2P', '2PA', 'FT', 'FTA', 'ORB', 'DRB', 'TRB', 'AST', 'STL', 'BLK', 'TOV', 'PF', 'PTS']].astype(float)\n",
    "    df[['FG%', '3P%', '2P%', 'eFG%', 'FT%']] = df[['FG%', '3P%', '2P%', 'eFG%', 'FT%']].astype(float)\n",
    "    return df"
   ]
  },
  {
   "cell_type": "markdown",
   "metadata": {},
   "source": [
    "Now to gather more data from previous seasons using the new function created."
   ]
  },
  {
   "cell_type": "code",
   "execution_count": 16,
   "metadata": {},
   "outputs": [],
   "source": [
    "NBA_season_2020_2021 = scrape_nba_data(2021)\n",
    "NBA_season_2019_2020 = scrape_nba_data(2020)\n",
    "NBA_season_2018_2019 = scrape_nba_data(2019)\n",
    "NBA_season_2017_2018 = scrape_nba_data(2018)\n",
    "NBA_season_2016_2017 = scrape_nba_data(2017)\n",
    "NBA_season_2015_2016 = scrape_nba_data(2016)\n",
    "NBA_season_2014_2015 = scrape_nba_data(2015)"
   ]
  },
  {
   "cell_type": "markdown",
   "metadata": {},
   "source": [
    "Lets gather the top 5 scorers from previous seasons"
   ]
  },
  {
   "cell_type": "code",
   "execution_count": 17,
   "metadata": {},
   "outputs": [],
   "source": [
    "top_scorer_2020_2021 = NBA_season_2020_2021.nlargest(5, 'PTS')\n",
    "top_scorer_2021_2022 = NBA_season_2021_2022.nlargest(5, 'PTS')\n",
    "top_scorer_2019_2020 = NBA_season_2019_2020.nlargest(5, 'PTS')\n",
    "top_scorer_2018_2019 = NBA_season_2018_2019.nlargest(5, 'PTS')\n",
    "top_scorer_2017_2018 = NBA_season_2017_2018.nlargest(5, 'PTS')\n",
    "top_scorer_2016_2017 = NBA_season_2016_2017.nlargest(5, 'PTS')\n",
    "top_scorer_2015_2016 = NBA_season_2015_2016.nlargest(5, 'PTS')\n",
    "top_scorer_2014_2015 = NBA_season_2014_2015.nlargest(5, 'PTS')"
   ]
  },
  {
   "cell_type": "markdown",
   "metadata": {},
   "source": [
    "I will import the needed libraries in order to perform visualizations to the data"
   ]
  },
  {
   "cell_type": "code",
   "execution_count": 18,
   "metadata": {},
   "outputs": [],
   "source": [
    "import seaborn as sns\n",
    "sns.set(style='darkgrid')\n",
    "import plotly.express as px\n",
    "import plotly.graph_objects as go\n",
    "sns.set() \n"
   ]
  },
  {
   "cell_type": "markdown",
   "metadata": {},
   "source": [
    "Now to look at how the previous top 5 scorers compared to each other from years 2014-2022"
   ]
  },
  {
   "cell_type": "code",
   "execution_count": 19,
   "metadata": {},
   "outputs": [
    {
     "data": {
      "application/vnd.plotly.v1+json": {
       "config": {
        "plotlyServerURL": "https://plot.ly"
       },
       "data": [
        {
         "marker": {
          "color": [
           1,
           2,
           3,
           4,
           7
          ]
         },
         "type": "bar",
         "x": [
          "Joel Embiid",
          "LeBron James",
          "Giannis Antetokounmpo",
          "Kevin Durant",
          "Luka Dončić"
         ],
         "xaxis": "x",
         "y": [
          30.6,
          30.3,
          29.9,
          29.9,
          28.4
         ],
         "yaxis": "y"
        },
        {
         "marker": {
          "color": [
           1,
           2,
           3,
           4,
           7
          ]
         },
         "type": "bar",
         "x": [
          "Stephen Curry",
          "Bradley Beal",
          "Damian Lillard",
          "Joel Embiid",
          "Giannis Antetokounmpo"
         ],
         "xaxis": "x2",
         "y": [
          32,
          31.3,
          28.8,
          28.5,
          28.1
         ],
         "yaxis": "y2"
        },
        {
         "marker": {
          "color": [
           1,
           2,
           3,
           4,
           7
          ]
         },
         "type": "bar",
         "x": [
          "James Harden",
          "Bradley Beal",
          "Damian Lillard",
          "Trae Young",
          "Giannis Antetokounmpo"
         ],
         "xaxis": "x3",
         "y": [
          34.3,
          30.5,
          30,
          29.6,
          29.5
         ],
         "yaxis": "y3"
        },
        {
         "marker": {
          "color": [
           1,
           2,
           3,
           4,
           7
          ]
         },
         "type": "bar",
         "x": [
          "James Harden",
          "Paul George",
          "Giannis Antetokounmpo",
          "Joel Embiid",
          "LeBron James"
         ],
         "xaxis": "x4",
         "y": [
          36.1,
          28,
          27.7,
          27.5,
          27.4
         ],
         "yaxis": "y4"
        },
        {
         "marker": {
          "color": [
           1,
           2,
           3,
           4,
           7
          ]
         },
         "type": "bar",
         "x": [
          "James Harden",
          "Anthony Davis",
          "LeBron James",
          "Giannis Antetokounmpo",
          "Damian Lillard"
         ],
         "xaxis": "x5",
         "y": [
          30.4,
          28.1,
          27.5,
          26.9,
          26.9
         ],
         "yaxis": "y5"
        },
        {
         "marker": {
          "color": [
           1,
           2,
           3,
           4,
           7
          ]
         },
         "type": "bar",
         "x": [
          "Russell Westbrook",
          "James Harden",
          "Isaiah Thomas",
          "Anthony Davis",
          "DeMarcus Cousins"
         ],
         "xaxis": "x6",
         "y": [
          31.6,
          29.1,
          28.9,
          28,
          27.8
         ],
         "yaxis": "y6"
        },
        {
         "marker": {
          "color": [
           1,
           2,
           3,
           4,
           7
          ]
         },
         "type": "bar",
         "x": [
          "Stephen Curry",
          "James Harden",
          "Kevin Durant",
          "DeMarcus Cousins",
          "LeBron James"
         ],
         "xaxis": "x7",
         "y": [
          30.1,
          29,
          28.2,
          26.9,
          25.3
         ],
         "yaxis": "y7"
        },
        {
         "marker": {
          "color": [
           1,
           2,
           3,
           4,
           7
          ]
         },
         "type": "bar",
         "x": [
          "Russell Westbrook",
          "James Harden",
          "Kevin Durant",
          "LeBron James",
          "Anthony Davis"
         ],
         "xaxis": "x8",
         "y": [
          28.1,
          27.4,
          25.4,
          25.3,
          24.4
         ],
         "yaxis": "y8"
        }
       ],
       "layout": {
        "annotations": [
         {
          "font": {
           "size": 16
          },
          "showarrow": false,
          "text": "Season 2021-2022",
          "x": 0.10625,
          "xanchor": "center",
          "xref": "paper",
          "y": 1,
          "yanchor": "bottom",
          "yref": "paper"
         },
         {
          "font": {
           "size": 16
          },
          "showarrow": false,
          "text": "Season 2020-2021",
          "x": 0.36875,
          "xanchor": "center",
          "xref": "paper",
          "y": 1,
          "yanchor": "bottom",
          "yref": "paper"
         },
         {
          "font": {
           "size": 16
          },
          "showarrow": false,
          "text": "Season 2019-2020",
          "x": 0.6312500000000001,
          "xanchor": "center",
          "xref": "paper",
          "y": 1,
          "yanchor": "bottom",
          "yref": "paper"
         },
         {
          "font": {
           "size": 16
          },
          "showarrow": false,
          "text": "Season 2018-2019",
          "x": 0.89375,
          "xanchor": "center",
          "xref": "paper",
          "y": 1,
          "yanchor": "bottom",
          "yref": "paper"
         },
         {
          "font": {
           "size": 16
          },
          "showarrow": false,
          "text": "Season 2017-2018",
          "x": 0.10625,
          "xanchor": "center",
          "xref": "paper",
          "y": 0.375,
          "yanchor": "bottom",
          "yref": "paper"
         },
         {
          "font": {
           "size": 16
          },
          "showarrow": false,
          "text": "Season 2016-2017",
          "x": 0.36875,
          "xanchor": "center",
          "xref": "paper",
          "y": 0.375,
          "yanchor": "bottom",
          "yref": "paper"
         },
         {
          "font": {
           "size": 16
          },
          "showarrow": false,
          "text": "Seaon 2015-2016",
          "x": 0.6312500000000001,
          "xanchor": "center",
          "xref": "paper",
          "y": 0.375,
          "yanchor": "bottom",
          "yref": "paper"
         },
         {
          "font": {
           "size": 16
          },
          "showarrow": false,
          "text": "Season 2014-2015",
          "x": 0.89375,
          "xanchor": "center",
          "xref": "paper",
          "y": 0.375,
          "yanchor": "bottom",
          "yref": "paper"
         }
        ],
        "height": 1000,
        "template": {
         "data": {
          "bar": [
           {
            "error_x": {
             "color": "#2a3f5f"
            },
            "error_y": {
             "color": "#2a3f5f"
            },
            "marker": {
             "line": {
              "color": "#E5ECF6",
              "width": 0.5
             },
             "pattern": {
              "fillmode": "overlay",
              "size": 10,
              "solidity": 0.2
             }
            },
            "type": "bar"
           }
          ],
          "barpolar": [
           {
            "marker": {
             "line": {
              "color": "#E5ECF6",
              "width": 0.5
             },
             "pattern": {
              "fillmode": "overlay",
              "size": 10,
              "solidity": 0.2
             }
            },
            "type": "barpolar"
           }
          ],
          "carpet": [
           {
            "aaxis": {
             "endlinecolor": "#2a3f5f",
             "gridcolor": "white",
             "linecolor": "white",
             "minorgridcolor": "white",
             "startlinecolor": "#2a3f5f"
            },
            "baxis": {
             "endlinecolor": "#2a3f5f",
             "gridcolor": "white",
             "linecolor": "white",
             "minorgridcolor": "white",
             "startlinecolor": "#2a3f5f"
            },
            "type": "carpet"
           }
          ],
          "choropleth": [
           {
            "colorbar": {
             "outlinewidth": 0,
             "ticks": ""
            },
            "type": "choropleth"
           }
          ],
          "contour": [
           {
            "colorbar": {
             "outlinewidth": 0,
             "ticks": ""
            },
            "colorscale": [
             [
              0,
              "#0d0887"
             ],
             [
              0.1111111111111111,
              "#46039f"
             ],
             [
              0.2222222222222222,
              "#7201a8"
             ],
             [
              0.3333333333333333,
              "#9c179e"
             ],
             [
              0.4444444444444444,
              "#bd3786"
             ],
             [
              0.5555555555555556,
              "#d8576b"
             ],
             [
              0.6666666666666666,
              "#ed7953"
             ],
             [
              0.7777777777777778,
              "#fb9f3a"
             ],
             [
              0.8888888888888888,
              "#fdca26"
             ],
             [
              1,
              "#f0f921"
             ]
            ],
            "type": "contour"
           }
          ],
          "contourcarpet": [
           {
            "colorbar": {
             "outlinewidth": 0,
             "ticks": ""
            },
            "type": "contourcarpet"
           }
          ],
          "heatmap": [
           {
            "colorbar": {
             "outlinewidth": 0,
             "ticks": ""
            },
            "colorscale": [
             [
              0,
              "#0d0887"
             ],
             [
              0.1111111111111111,
              "#46039f"
             ],
             [
              0.2222222222222222,
              "#7201a8"
             ],
             [
              0.3333333333333333,
              "#9c179e"
             ],
             [
              0.4444444444444444,
              "#bd3786"
             ],
             [
              0.5555555555555556,
              "#d8576b"
             ],
             [
              0.6666666666666666,
              "#ed7953"
             ],
             [
              0.7777777777777778,
              "#fb9f3a"
             ],
             [
              0.8888888888888888,
              "#fdca26"
             ],
             [
              1,
              "#f0f921"
             ]
            ],
            "type": "heatmap"
           }
          ],
          "heatmapgl": [
           {
            "colorbar": {
             "outlinewidth": 0,
             "ticks": ""
            },
            "colorscale": [
             [
              0,
              "#0d0887"
             ],
             [
              0.1111111111111111,
              "#46039f"
             ],
             [
              0.2222222222222222,
              "#7201a8"
             ],
             [
              0.3333333333333333,
              "#9c179e"
             ],
             [
              0.4444444444444444,
              "#bd3786"
             ],
             [
              0.5555555555555556,
              "#d8576b"
             ],
             [
              0.6666666666666666,
              "#ed7953"
             ],
             [
              0.7777777777777778,
              "#fb9f3a"
             ],
             [
              0.8888888888888888,
              "#fdca26"
             ],
             [
              1,
              "#f0f921"
             ]
            ],
            "type": "heatmapgl"
           }
          ],
          "histogram": [
           {
            "marker": {
             "pattern": {
              "fillmode": "overlay",
              "size": 10,
              "solidity": 0.2
             }
            },
            "type": "histogram"
           }
          ],
          "histogram2d": [
           {
            "colorbar": {
             "outlinewidth": 0,
             "ticks": ""
            },
            "colorscale": [
             [
              0,
              "#0d0887"
             ],
             [
              0.1111111111111111,
              "#46039f"
             ],
             [
              0.2222222222222222,
              "#7201a8"
             ],
             [
              0.3333333333333333,
              "#9c179e"
             ],
             [
              0.4444444444444444,
              "#bd3786"
             ],
             [
              0.5555555555555556,
              "#d8576b"
             ],
             [
              0.6666666666666666,
              "#ed7953"
             ],
             [
              0.7777777777777778,
              "#fb9f3a"
             ],
             [
              0.8888888888888888,
              "#fdca26"
             ],
             [
              1,
              "#f0f921"
             ]
            ],
            "type": "histogram2d"
           }
          ],
          "histogram2dcontour": [
           {
            "colorbar": {
             "outlinewidth": 0,
             "ticks": ""
            },
            "colorscale": [
             [
              0,
              "#0d0887"
             ],
             [
              0.1111111111111111,
              "#46039f"
             ],
             [
              0.2222222222222222,
              "#7201a8"
             ],
             [
              0.3333333333333333,
              "#9c179e"
             ],
             [
              0.4444444444444444,
              "#bd3786"
             ],
             [
              0.5555555555555556,
              "#d8576b"
             ],
             [
              0.6666666666666666,
              "#ed7953"
             ],
             [
              0.7777777777777778,
              "#fb9f3a"
             ],
             [
              0.8888888888888888,
              "#fdca26"
             ],
             [
              1,
              "#f0f921"
             ]
            ],
            "type": "histogram2dcontour"
           }
          ],
          "mesh3d": [
           {
            "colorbar": {
             "outlinewidth": 0,
             "ticks": ""
            },
            "type": "mesh3d"
           }
          ],
          "parcoords": [
           {
            "line": {
             "colorbar": {
              "outlinewidth": 0,
              "ticks": ""
             }
            },
            "type": "parcoords"
           }
          ],
          "pie": [
           {
            "automargin": true,
            "type": "pie"
           }
          ],
          "scatter": [
           {
            "fillpattern": {
             "fillmode": "overlay",
             "size": 10,
             "solidity": 0.2
            },
            "type": "scatter"
           }
          ],
          "scatter3d": [
           {
            "line": {
             "colorbar": {
              "outlinewidth": 0,
              "ticks": ""
             }
            },
            "marker": {
             "colorbar": {
              "outlinewidth": 0,
              "ticks": ""
             }
            },
            "type": "scatter3d"
           }
          ],
          "scattercarpet": [
           {
            "marker": {
             "colorbar": {
              "outlinewidth": 0,
              "ticks": ""
             }
            },
            "type": "scattercarpet"
           }
          ],
          "scattergeo": [
           {
            "marker": {
             "colorbar": {
              "outlinewidth": 0,
              "ticks": ""
             }
            },
            "type": "scattergeo"
           }
          ],
          "scattergl": [
           {
            "marker": {
             "colorbar": {
              "outlinewidth": 0,
              "ticks": ""
             }
            },
            "type": "scattergl"
           }
          ],
          "scattermapbox": [
           {
            "marker": {
             "colorbar": {
              "outlinewidth": 0,
              "ticks": ""
             }
            },
            "type": "scattermapbox"
           }
          ],
          "scatterpolar": [
           {
            "marker": {
             "colorbar": {
              "outlinewidth": 0,
              "ticks": ""
             }
            },
            "type": "scatterpolar"
           }
          ],
          "scatterpolargl": [
           {
            "marker": {
             "colorbar": {
              "outlinewidth": 0,
              "ticks": ""
             }
            },
            "type": "scatterpolargl"
           }
          ],
          "scatterternary": [
           {
            "marker": {
             "colorbar": {
              "outlinewidth": 0,
              "ticks": ""
             }
            },
            "type": "scatterternary"
           }
          ],
          "surface": [
           {
            "colorbar": {
             "outlinewidth": 0,
             "ticks": ""
            },
            "colorscale": [
             [
              0,
              "#0d0887"
             ],
             [
              0.1111111111111111,
              "#46039f"
             ],
             [
              0.2222222222222222,
              "#7201a8"
             ],
             [
              0.3333333333333333,
              "#9c179e"
             ],
             [
              0.4444444444444444,
              "#bd3786"
             ],
             [
              0.5555555555555556,
              "#d8576b"
             ],
             [
              0.6666666666666666,
              "#ed7953"
             ],
             [
              0.7777777777777778,
              "#fb9f3a"
             ],
             [
              0.8888888888888888,
              "#fdca26"
             ],
             [
              1,
              "#f0f921"
             ]
            ],
            "type": "surface"
           }
          ],
          "table": [
           {
            "cells": {
             "fill": {
              "color": "#EBF0F8"
             },
             "line": {
              "color": "white"
             }
            },
            "header": {
             "fill": {
              "color": "#C8D4E3"
             },
             "line": {
              "color": "white"
             }
            },
            "type": "table"
           }
          ]
         },
         "layout": {
          "annotationdefaults": {
           "arrowcolor": "#2a3f5f",
           "arrowhead": 0,
           "arrowwidth": 1
          },
          "autotypenumbers": "strict",
          "coloraxis": {
           "colorbar": {
            "outlinewidth": 0,
            "ticks": ""
           }
          },
          "colorscale": {
           "diverging": [
            [
             0,
             "#8e0152"
            ],
            [
             0.1,
             "#c51b7d"
            ],
            [
             0.2,
             "#de77ae"
            ],
            [
             0.3,
             "#f1b6da"
            ],
            [
             0.4,
             "#fde0ef"
            ],
            [
             0.5,
             "#f7f7f7"
            ],
            [
             0.6,
             "#e6f5d0"
            ],
            [
             0.7,
             "#b8e186"
            ],
            [
             0.8,
             "#7fbc41"
            ],
            [
             0.9,
             "#4d9221"
            ],
            [
             1,
             "#276419"
            ]
           ],
           "sequential": [
            [
             0,
             "#0d0887"
            ],
            [
             0.1111111111111111,
             "#46039f"
            ],
            [
             0.2222222222222222,
             "#7201a8"
            ],
            [
             0.3333333333333333,
             "#9c179e"
            ],
            [
             0.4444444444444444,
             "#bd3786"
            ],
            [
             0.5555555555555556,
             "#d8576b"
            ],
            [
             0.6666666666666666,
             "#ed7953"
            ],
            [
             0.7777777777777778,
             "#fb9f3a"
            ],
            [
             0.8888888888888888,
             "#fdca26"
            ],
            [
             1,
             "#f0f921"
            ]
           ],
           "sequentialminus": [
            [
             0,
             "#0d0887"
            ],
            [
             0.1111111111111111,
             "#46039f"
            ],
            [
             0.2222222222222222,
             "#7201a8"
            ],
            [
             0.3333333333333333,
             "#9c179e"
            ],
            [
             0.4444444444444444,
             "#bd3786"
            ],
            [
             0.5555555555555556,
             "#d8576b"
            ],
            [
             0.6666666666666666,
             "#ed7953"
            ],
            [
             0.7777777777777778,
             "#fb9f3a"
            ],
            [
             0.8888888888888888,
             "#fdca26"
            ],
            [
             1,
             "#f0f921"
            ]
           ]
          },
          "colorway": [
           "#636efa",
           "#EF553B",
           "#00cc96",
           "#ab63fa",
           "#FFA15A",
           "#19d3f3",
           "#FF6692",
           "#B6E880",
           "#FF97FF",
           "#FECB52"
          ],
          "font": {
           "color": "#2a3f5f"
          },
          "geo": {
           "bgcolor": "white",
           "lakecolor": "white",
           "landcolor": "#E5ECF6",
           "showlakes": true,
           "showland": true,
           "subunitcolor": "white"
          },
          "hoverlabel": {
           "align": "left"
          },
          "hovermode": "closest",
          "mapbox": {
           "style": "light"
          },
          "paper_bgcolor": "white",
          "plot_bgcolor": "#E5ECF6",
          "polar": {
           "angularaxis": {
            "gridcolor": "white",
            "linecolor": "white",
            "ticks": ""
           },
           "bgcolor": "#E5ECF6",
           "radialaxis": {
            "gridcolor": "white",
            "linecolor": "white",
            "ticks": ""
           }
          },
          "scene": {
           "xaxis": {
            "backgroundcolor": "#E5ECF6",
            "gridcolor": "white",
            "gridwidth": 2,
            "linecolor": "white",
            "showbackground": true,
            "ticks": "",
            "zerolinecolor": "white"
           },
           "yaxis": {
            "backgroundcolor": "#E5ECF6",
            "gridcolor": "white",
            "gridwidth": 2,
            "linecolor": "white",
            "showbackground": true,
            "ticks": "",
            "zerolinecolor": "white"
           },
           "zaxis": {
            "backgroundcolor": "#E5ECF6",
            "gridcolor": "white",
            "gridwidth": 2,
            "linecolor": "white",
            "showbackground": true,
            "ticks": "",
            "zerolinecolor": "white"
           }
          },
          "shapedefaults": {
           "line": {
            "color": "#2a3f5f"
           }
          },
          "ternary": {
           "aaxis": {
            "gridcolor": "white",
            "linecolor": "white",
            "ticks": ""
           },
           "baxis": {
            "gridcolor": "white",
            "linecolor": "white",
            "ticks": ""
           },
           "bgcolor": "#E5ECF6",
           "caxis": {
            "gridcolor": "white",
            "linecolor": "white",
            "ticks": ""
           }
          },
          "title": {
           "x": 0.05
          },
          "xaxis": {
           "automargin": true,
           "gridcolor": "white",
           "linecolor": "white",
           "ticks": "",
           "title": {
            "standoff": 15
           },
           "zerolinecolor": "white",
           "zerolinewidth": 2
          },
          "yaxis": {
           "automargin": true,
           "gridcolor": "white",
           "linecolor": "white",
           "ticks": "",
           "title": {
            "standoff": 15
           },
           "zerolinecolor": "white",
           "zerolinewidth": 2
          }
         }
        },
        "title": {
         "text": "Top 5 Scorers"
        },
        "width": 1200,
        "xaxis": {
         "anchor": "y",
         "domain": [
          0,
          0.2125
         ]
        },
        "xaxis2": {
         "anchor": "y2",
         "domain": [
          0.2625,
          0.475
         ]
        },
        "xaxis3": {
         "anchor": "y3",
         "domain": [
          0.525,
          0.7375
         ]
        },
        "xaxis4": {
         "anchor": "y4",
         "domain": [
          0.7875,
          1
         ]
        },
        "xaxis5": {
         "anchor": "y5",
         "domain": [
          0,
          0.2125
         ]
        },
        "xaxis6": {
         "anchor": "y6",
         "domain": [
          0.2625,
          0.475
         ]
        },
        "xaxis7": {
         "anchor": "y7",
         "domain": [
          0.525,
          0.7375
         ]
        },
        "xaxis8": {
         "anchor": "y8",
         "domain": [
          0.7875,
          1
         ]
        },
        "yaxis": {
         "anchor": "x",
         "domain": [
          0.625,
          1
         ]
        },
        "yaxis2": {
         "anchor": "x2",
         "domain": [
          0.625,
          1
         ]
        },
        "yaxis3": {
         "anchor": "x3",
         "domain": [
          0.625,
          1
         ]
        },
        "yaxis4": {
         "anchor": "x4",
         "domain": [
          0.625,
          1
         ]
        },
        "yaxis5": {
         "anchor": "x5",
         "domain": [
          0,
          0.375
         ]
        },
        "yaxis6": {
         "anchor": "x6",
         "domain": [
          0,
          0.375
         ]
        },
        "yaxis7": {
         "anchor": "x7",
         "domain": [
          0,
          0.375
         ]
        },
        "yaxis8": {
         "anchor": "x8",
         "domain": [
          0,
          0.375
         ]
        }
       }
      }
     },
     "metadata": {},
     "output_type": "display_data"
    }
   ],
   "source": [
    "from plotly.subplots import make_subplots\n",
    "fig = make_subplots(rows=2, cols=4,\n",
    "    subplot_titles=('Season 2021-2022', 'Season 2020-2021', 'Season 2019-2020', 'Season 2018-2019',\n",
    "                    'Season 2017-2018', 'Season 2016-2017', 'Seaon 2015-2016', 'Season 2014-2015'))\n",
    "\n",
    "fig.add_trace(\n",
    "    go.Bar(x=top_scorer_2021_2022['Player'], y=top_scorer_2021_2022['PTS'],\n",
    "            marker=dict(color=[1,2,3,4,7])), row=1, col=1\n",
    ")\n",
    "fig.add_trace(\n",
    "    go.Bar(x=top_scorer_2020_2021['Player'], y=top_scorer_2020_2021['PTS'],\n",
    "            marker=dict(color=[1,2,3,4,7])), row=1, col=2\n",
    ")\n",
    "fig.add_trace(\n",
    "    go.Bar(x=top_scorer_2019_2020['Player'], y=top_scorer_2019_2020['PTS'],\n",
    "            marker=dict(color=[1,2,3,4,7])), row=1, col=3\n",
    ")\n",
    "fig.add_trace(\n",
    "    go.Bar(x=top_scorer_2018_2019['Player'], y=top_scorer_2018_2019['PTS'],\n",
    "            marker=dict(color=[1,2,3,4,7])), row=1, col=4\n",
    ")\n",
    "fig.add_trace(\n",
    "    go.Bar(x=top_scorer_2017_2018['Player'], y=top_scorer_2017_2018['PTS'],\n",
    "            marker=dict(color=[1,2,3,4,7])), row=2, col=1\n",
    ")\n",
    "fig.add_trace(\n",
    "    go.Bar(x=top_scorer_2016_2017['Player'], y=top_scorer_2016_2017['PTS'],\n",
    "            marker=dict(color=[1,2,3,4,7])), row=2, col=2\n",
    ")\n",
    "fig.add_trace(\n",
    "    go.Bar(x=top_scorer_2015_2016['Player'], y=top_scorer_2015_2016['PTS'],\n",
    "            marker=dict(color=[1,2,3,4,7])), row=2, col=3\n",
    ")\n",
    "fig.add_trace(\n",
    "    go.Bar(x=top_scorer_2014_2015['Player'], y=top_scorer_2014_2015['PTS'],\n",
    "            marker=dict(color=[1,2,3,4,7])), row=2, col=4\n",
    ")\n",
    "\n",
    "fig.update_layout(height=1000, width= 1200, title_text= 'Top 5 Scorers')\n",
    "fig.show()"
   ]
  },
  {
   "cell_type": "markdown",
   "metadata": {},
   "source": [
    "Now to plot amount of points scored vs minutes played to see if there is any correlation between minutes played and points scored."
   ]
  },
  {
   "cell_type": "code",
   "execution_count": 20,
   "metadata": {},
   "outputs": [
    {
     "data": {
      "application/vnd.plotly.v1+json": {
       "config": {
        "plotlyServerURL": "https://plot.ly"
       },
       "data": [
        {
         "hovertemplate": "Player=Joel Embiid<br>MP=%{x}<br>PTS=%{marker.size}<extra></extra>",
         "legendgroup": "Joel Embiid",
         "marker": {
          "color": "#636efa",
          "size": [
           30.6
          ],
          "sizemode": "area",
          "sizeref": 0.0765,
          "symbol": "circle"
         },
         "mode": "markers",
         "name": "Joel Embiid",
         "orientation": "v",
         "showlegend": true,
         "type": "scatter",
         "x": [
          33.8
         ],
         "xaxis": "x",
         "y": [
          30.6
         ],
         "yaxis": "y"
        },
        {
         "hovertemplate": "Player=LeBron James<br>MP=%{x}<br>PTS=%{marker.size}<extra></extra>",
         "legendgroup": "LeBron James",
         "marker": {
          "color": "#EF553B",
          "size": [
           30.3
          ],
          "sizemode": "area",
          "sizeref": 0.0765,
          "symbol": "circle"
         },
         "mode": "markers",
         "name": "LeBron James",
         "orientation": "v",
         "showlegend": true,
         "type": "scatter",
         "x": [
          37.2
         ],
         "xaxis": "x",
         "y": [
          30.3
         ],
         "yaxis": "y"
        },
        {
         "hovertemplate": "Player=Giannis Antetokounmpo<br>MP=%{x}<br>PTS=%{marker.size}<extra></extra>",
         "legendgroup": "Giannis Antetokounmpo",
         "marker": {
          "color": "#00cc96",
          "size": [
           29.9
          ],
          "sizemode": "area",
          "sizeref": 0.0765,
          "symbol": "circle"
         },
         "mode": "markers",
         "name": "Giannis Antetokounmpo",
         "orientation": "v",
         "showlegend": true,
         "type": "scatter",
         "x": [
          32.9
         ],
         "xaxis": "x",
         "y": [
          29.9
         ],
         "yaxis": "y"
        },
        {
         "hovertemplate": "Player=Kevin Durant<br>MP=%{x}<br>PTS=%{marker.size}<extra></extra>",
         "legendgroup": "Kevin Durant",
         "marker": {
          "color": "#ab63fa",
          "size": [
           29.9
          ],
          "sizemode": "area",
          "sizeref": 0.0765,
          "symbol": "circle"
         },
         "mode": "markers",
         "name": "Kevin Durant",
         "orientation": "v",
         "showlegend": true,
         "type": "scatter",
         "x": [
          37.2
         ],
         "xaxis": "x",
         "y": [
          29.9
         ],
         "yaxis": "y"
        },
        {
         "hovertemplate": "Player=Luka Dončić<br>MP=%{x}<br>PTS=%{marker.size}<extra></extra>",
         "legendgroup": "Luka Dončić",
         "marker": {
          "color": "#FFA15A",
          "size": [
           28.4
          ],
          "sizemode": "area",
          "sizeref": 0.0765,
          "symbol": "circle"
         },
         "mode": "markers",
         "name": "Luka Dončić",
         "orientation": "v",
         "showlegend": true,
         "type": "scatter",
         "x": [
          35.4
         ],
         "xaxis": "x",
         "y": [
          28.4
         ],
         "yaxis": "y"
        }
       ],
       "layout": {
        "legend": {
         "itemsizing": "constant",
         "title": {
          "text": "Player"
         },
         "tracegroupgap": 0
        },
        "margin": {
         "t": 60
        },
        "template": {
         "data": {
          "bar": [
           {
            "error_x": {
             "color": "#2a3f5f"
            },
            "error_y": {
             "color": "#2a3f5f"
            },
            "marker": {
             "line": {
              "color": "#E5ECF6",
              "width": 0.5
             },
             "pattern": {
              "fillmode": "overlay",
              "size": 10,
              "solidity": 0.2
             }
            },
            "type": "bar"
           }
          ],
          "barpolar": [
           {
            "marker": {
             "line": {
              "color": "#E5ECF6",
              "width": 0.5
             },
             "pattern": {
              "fillmode": "overlay",
              "size": 10,
              "solidity": 0.2
             }
            },
            "type": "barpolar"
           }
          ],
          "carpet": [
           {
            "aaxis": {
             "endlinecolor": "#2a3f5f",
             "gridcolor": "white",
             "linecolor": "white",
             "minorgridcolor": "white",
             "startlinecolor": "#2a3f5f"
            },
            "baxis": {
             "endlinecolor": "#2a3f5f",
             "gridcolor": "white",
             "linecolor": "white",
             "minorgridcolor": "white",
             "startlinecolor": "#2a3f5f"
            },
            "type": "carpet"
           }
          ],
          "choropleth": [
           {
            "colorbar": {
             "outlinewidth": 0,
             "ticks": ""
            },
            "type": "choropleth"
           }
          ],
          "contour": [
           {
            "colorbar": {
             "outlinewidth": 0,
             "ticks": ""
            },
            "colorscale": [
             [
              0,
              "#0d0887"
             ],
             [
              0.1111111111111111,
              "#46039f"
             ],
             [
              0.2222222222222222,
              "#7201a8"
             ],
             [
              0.3333333333333333,
              "#9c179e"
             ],
             [
              0.4444444444444444,
              "#bd3786"
             ],
             [
              0.5555555555555556,
              "#d8576b"
             ],
             [
              0.6666666666666666,
              "#ed7953"
             ],
             [
              0.7777777777777778,
              "#fb9f3a"
             ],
             [
              0.8888888888888888,
              "#fdca26"
             ],
             [
              1,
              "#f0f921"
             ]
            ],
            "type": "contour"
           }
          ],
          "contourcarpet": [
           {
            "colorbar": {
             "outlinewidth": 0,
             "ticks": ""
            },
            "type": "contourcarpet"
           }
          ],
          "heatmap": [
           {
            "colorbar": {
             "outlinewidth": 0,
             "ticks": ""
            },
            "colorscale": [
             [
              0,
              "#0d0887"
             ],
             [
              0.1111111111111111,
              "#46039f"
             ],
             [
              0.2222222222222222,
              "#7201a8"
             ],
             [
              0.3333333333333333,
              "#9c179e"
             ],
             [
              0.4444444444444444,
              "#bd3786"
             ],
             [
              0.5555555555555556,
              "#d8576b"
             ],
             [
              0.6666666666666666,
              "#ed7953"
             ],
             [
              0.7777777777777778,
              "#fb9f3a"
             ],
             [
              0.8888888888888888,
              "#fdca26"
             ],
             [
              1,
              "#f0f921"
             ]
            ],
            "type": "heatmap"
           }
          ],
          "heatmapgl": [
           {
            "colorbar": {
             "outlinewidth": 0,
             "ticks": ""
            },
            "colorscale": [
             [
              0,
              "#0d0887"
             ],
             [
              0.1111111111111111,
              "#46039f"
             ],
             [
              0.2222222222222222,
              "#7201a8"
             ],
             [
              0.3333333333333333,
              "#9c179e"
             ],
             [
              0.4444444444444444,
              "#bd3786"
             ],
             [
              0.5555555555555556,
              "#d8576b"
             ],
             [
              0.6666666666666666,
              "#ed7953"
             ],
             [
              0.7777777777777778,
              "#fb9f3a"
             ],
             [
              0.8888888888888888,
              "#fdca26"
             ],
             [
              1,
              "#f0f921"
             ]
            ],
            "type": "heatmapgl"
           }
          ],
          "histogram": [
           {
            "marker": {
             "pattern": {
              "fillmode": "overlay",
              "size": 10,
              "solidity": 0.2
             }
            },
            "type": "histogram"
           }
          ],
          "histogram2d": [
           {
            "colorbar": {
             "outlinewidth": 0,
             "ticks": ""
            },
            "colorscale": [
             [
              0,
              "#0d0887"
             ],
             [
              0.1111111111111111,
              "#46039f"
             ],
             [
              0.2222222222222222,
              "#7201a8"
             ],
             [
              0.3333333333333333,
              "#9c179e"
             ],
             [
              0.4444444444444444,
              "#bd3786"
             ],
             [
              0.5555555555555556,
              "#d8576b"
             ],
             [
              0.6666666666666666,
              "#ed7953"
             ],
             [
              0.7777777777777778,
              "#fb9f3a"
             ],
             [
              0.8888888888888888,
              "#fdca26"
             ],
             [
              1,
              "#f0f921"
             ]
            ],
            "type": "histogram2d"
           }
          ],
          "histogram2dcontour": [
           {
            "colorbar": {
             "outlinewidth": 0,
             "ticks": ""
            },
            "colorscale": [
             [
              0,
              "#0d0887"
             ],
             [
              0.1111111111111111,
              "#46039f"
             ],
             [
              0.2222222222222222,
              "#7201a8"
             ],
             [
              0.3333333333333333,
              "#9c179e"
             ],
             [
              0.4444444444444444,
              "#bd3786"
             ],
             [
              0.5555555555555556,
              "#d8576b"
             ],
             [
              0.6666666666666666,
              "#ed7953"
             ],
             [
              0.7777777777777778,
              "#fb9f3a"
             ],
             [
              0.8888888888888888,
              "#fdca26"
             ],
             [
              1,
              "#f0f921"
             ]
            ],
            "type": "histogram2dcontour"
           }
          ],
          "mesh3d": [
           {
            "colorbar": {
             "outlinewidth": 0,
             "ticks": ""
            },
            "type": "mesh3d"
           }
          ],
          "parcoords": [
           {
            "line": {
             "colorbar": {
              "outlinewidth": 0,
              "ticks": ""
             }
            },
            "type": "parcoords"
           }
          ],
          "pie": [
           {
            "automargin": true,
            "type": "pie"
           }
          ],
          "scatter": [
           {
            "fillpattern": {
             "fillmode": "overlay",
             "size": 10,
             "solidity": 0.2
            },
            "type": "scatter"
           }
          ],
          "scatter3d": [
           {
            "line": {
             "colorbar": {
              "outlinewidth": 0,
              "ticks": ""
             }
            },
            "marker": {
             "colorbar": {
              "outlinewidth": 0,
              "ticks": ""
             }
            },
            "type": "scatter3d"
           }
          ],
          "scattercarpet": [
           {
            "marker": {
             "colorbar": {
              "outlinewidth": 0,
              "ticks": ""
             }
            },
            "type": "scattercarpet"
           }
          ],
          "scattergeo": [
           {
            "marker": {
             "colorbar": {
              "outlinewidth": 0,
              "ticks": ""
             }
            },
            "type": "scattergeo"
           }
          ],
          "scattergl": [
           {
            "marker": {
             "colorbar": {
              "outlinewidth": 0,
              "ticks": ""
             }
            },
            "type": "scattergl"
           }
          ],
          "scattermapbox": [
           {
            "marker": {
             "colorbar": {
              "outlinewidth": 0,
              "ticks": ""
             }
            },
            "type": "scattermapbox"
           }
          ],
          "scatterpolar": [
           {
            "marker": {
             "colorbar": {
              "outlinewidth": 0,
              "ticks": ""
             }
            },
            "type": "scatterpolar"
           }
          ],
          "scatterpolargl": [
           {
            "marker": {
             "colorbar": {
              "outlinewidth": 0,
              "ticks": ""
             }
            },
            "type": "scatterpolargl"
           }
          ],
          "scatterternary": [
           {
            "marker": {
             "colorbar": {
              "outlinewidth": 0,
              "ticks": ""
             }
            },
            "type": "scatterternary"
           }
          ],
          "surface": [
           {
            "colorbar": {
             "outlinewidth": 0,
             "ticks": ""
            },
            "colorscale": [
             [
              0,
              "#0d0887"
             ],
             [
              0.1111111111111111,
              "#46039f"
             ],
             [
              0.2222222222222222,
              "#7201a8"
             ],
             [
              0.3333333333333333,
              "#9c179e"
             ],
             [
              0.4444444444444444,
              "#bd3786"
             ],
             [
              0.5555555555555556,
              "#d8576b"
             ],
             [
              0.6666666666666666,
              "#ed7953"
             ],
             [
              0.7777777777777778,
              "#fb9f3a"
             ],
             [
              0.8888888888888888,
              "#fdca26"
             ],
             [
              1,
              "#f0f921"
             ]
            ],
            "type": "surface"
           }
          ],
          "table": [
           {
            "cells": {
             "fill": {
              "color": "#EBF0F8"
             },
             "line": {
              "color": "white"
             }
            },
            "header": {
             "fill": {
              "color": "#C8D4E3"
             },
             "line": {
              "color": "white"
             }
            },
            "type": "table"
           }
          ]
         },
         "layout": {
          "annotationdefaults": {
           "arrowcolor": "#2a3f5f",
           "arrowhead": 0,
           "arrowwidth": 1
          },
          "autotypenumbers": "strict",
          "coloraxis": {
           "colorbar": {
            "outlinewidth": 0,
            "ticks": ""
           }
          },
          "colorscale": {
           "diverging": [
            [
             0,
             "#8e0152"
            ],
            [
             0.1,
             "#c51b7d"
            ],
            [
             0.2,
             "#de77ae"
            ],
            [
             0.3,
             "#f1b6da"
            ],
            [
             0.4,
             "#fde0ef"
            ],
            [
             0.5,
             "#f7f7f7"
            ],
            [
             0.6,
             "#e6f5d0"
            ],
            [
             0.7,
             "#b8e186"
            ],
            [
             0.8,
             "#7fbc41"
            ],
            [
             0.9,
             "#4d9221"
            ],
            [
             1,
             "#276419"
            ]
           ],
           "sequential": [
            [
             0,
             "#0d0887"
            ],
            [
             0.1111111111111111,
             "#46039f"
            ],
            [
             0.2222222222222222,
             "#7201a8"
            ],
            [
             0.3333333333333333,
             "#9c179e"
            ],
            [
             0.4444444444444444,
             "#bd3786"
            ],
            [
             0.5555555555555556,
             "#d8576b"
            ],
            [
             0.6666666666666666,
             "#ed7953"
            ],
            [
             0.7777777777777778,
             "#fb9f3a"
            ],
            [
             0.8888888888888888,
             "#fdca26"
            ],
            [
             1,
             "#f0f921"
            ]
           ],
           "sequentialminus": [
            [
             0,
             "#0d0887"
            ],
            [
             0.1111111111111111,
             "#46039f"
            ],
            [
             0.2222222222222222,
             "#7201a8"
            ],
            [
             0.3333333333333333,
             "#9c179e"
            ],
            [
             0.4444444444444444,
             "#bd3786"
            ],
            [
             0.5555555555555556,
             "#d8576b"
            ],
            [
             0.6666666666666666,
             "#ed7953"
            ],
            [
             0.7777777777777778,
             "#fb9f3a"
            ],
            [
             0.8888888888888888,
             "#fdca26"
            ],
            [
             1,
             "#f0f921"
            ]
           ]
          },
          "colorway": [
           "#636efa",
           "#EF553B",
           "#00cc96",
           "#ab63fa",
           "#FFA15A",
           "#19d3f3",
           "#FF6692",
           "#B6E880",
           "#FF97FF",
           "#FECB52"
          ],
          "font": {
           "color": "#2a3f5f"
          },
          "geo": {
           "bgcolor": "white",
           "lakecolor": "white",
           "landcolor": "#E5ECF6",
           "showlakes": true,
           "showland": true,
           "subunitcolor": "white"
          },
          "hoverlabel": {
           "align": "left"
          },
          "hovermode": "closest",
          "mapbox": {
           "style": "light"
          },
          "paper_bgcolor": "white",
          "plot_bgcolor": "#E5ECF6",
          "polar": {
           "angularaxis": {
            "gridcolor": "white",
            "linecolor": "white",
            "ticks": ""
           },
           "bgcolor": "#E5ECF6",
           "radialaxis": {
            "gridcolor": "white",
            "linecolor": "white",
            "ticks": ""
           }
          },
          "scene": {
           "xaxis": {
            "backgroundcolor": "#E5ECF6",
            "gridcolor": "white",
            "gridwidth": 2,
            "linecolor": "white",
            "showbackground": true,
            "ticks": "",
            "zerolinecolor": "white"
           },
           "yaxis": {
            "backgroundcolor": "#E5ECF6",
            "gridcolor": "white",
            "gridwidth": 2,
            "linecolor": "white",
            "showbackground": true,
            "ticks": "",
            "zerolinecolor": "white"
           },
           "zaxis": {
            "backgroundcolor": "#E5ECF6",
            "gridcolor": "white",
            "gridwidth": 2,
            "linecolor": "white",
            "showbackground": true,
            "ticks": "",
            "zerolinecolor": "white"
           }
          },
          "shapedefaults": {
           "line": {
            "color": "#2a3f5f"
           }
          },
          "ternary": {
           "aaxis": {
            "gridcolor": "white",
            "linecolor": "white",
            "ticks": ""
           },
           "baxis": {
            "gridcolor": "white",
            "linecolor": "white",
            "ticks": ""
           },
           "bgcolor": "#E5ECF6",
           "caxis": {
            "gridcolor": "white",
            "linecolor": "white",
            "ticks": ""
           }
          },
          "title": {
           "x": 0.05
          },
          "xaxis": {
           "automargin": true,
           "gridcolor": "white",
           "linecolor": "white",
           "ticks": "",
           "title": {
            "standoff": 15
           },
           "zerolinecolor": "white",
           "zerolinewidth": 2
          },
          "yaxis": {
           "automargin": true,
           "gridcolor": "white",
           "linecolor": "white",
           "ticks": "",
           "title": {
            "standoff": 15
           },
           "zerolinecolor": "white",
           "zerolinewidth": 2
          }
         }
        },
        "xaxis": {
         "anchor": "y",
         "domain": [
          0,
          1
         ],
         "title": {
          "text": "MP"
         }
        },
        "yaxis": {
         "anchor": "x",
         "domain": [
          0,
          1
         ],
         "title": {
          "text": "PTS"
         }
        }
       }
      }
     },
     "metadata": {},
     "output_type": "display_data"
    }
   ],
   "source": [
    "fig = px.scatter(top_scorer_2021_2022, x='MP', y='PTS', color='Player',\n",
    "                 size='PTS', hover_data=['MP'])\n",
    "fig.show()"
   ]
  },
  {
   "cell_type": "code",
   "execution_count": 45,
   "metadata": {},
   "outputs": [
    {
     "data": {
      "application/vnd.plotly.v1+json": {
       "config": {
        "plotlyServerURL": "https://plot.ly"
       },
       "data": [
        {
         "hovertemplate": "Player=Joel Embiid<br>MP=%{x}<br>PTS=%{marker.size}<extra></extra>",
         "legendgroup": "Joel Embiid",
         "marker": {
          "color": "#636efa",
          "size": [
           30.6
          ],
          "sizemode": "area",
          "sizeref": 0.0765,
          "symbol": "circle"
         },
         "mode": "markers",
         "name": "Joel Embiid",
         "orientation": "v",
         "showlegend": true,
         "type": "scatter",
         "x": [
          33.8
         ],
         "xaxis": "x",
         "y": [
          30.6
         ],
         "yaxis": "y"
        },
        {
         "hovertemplate": "Player=LeBron James<br>MP=%{x}<br>PTS=%{marker.size}<extra></extra>",
         "legendgroup": "LeBron James",
         "marker": {
          "color": "#EF553B",
          "size": [
           30.3
          ],
          "sizemode": "area",
          "sizeref": 0.0765,
          "symbol": "circle"
         },
         "mode": "markers",
         "name": "LeBron James",
         "orientation": "v",
         "showlegend": true,
         "type": "scatter",
         "x": [
          37.2
         ],
         "xaxis": "x",
         "y": [
          30.3
         ],
         "yaxis": "y"
        },
        {
         "hovertemplate": "Player=Giannis Antetokounmpo<br>MP=%{x}<br>PTS=%{marker.size}<extra></extra>",
         "legendgroup": "Giannis Antetokounmpo",
         "marker": {
          "color": "#00cc96",
          "size": [
           29.9
          ],
          "sizemode": "area",
          "sizeref": 0.0765,
          "symbol": "circle"
         },
         "mode": "markers",
         "name": "Giannis Antetokounmpo",
         "orientation": "v",
         "showlegend": true,
         "type": "scatter",
         "x": [
          32.9
         ],
         "xaxis": "x",
         "y": [
          29.9
         ],
         "yaxis": "y"
        },
        {
         "hovertemplate": "Player=Kevin Durant<br>MP=%{x}<br>PTS=%{marker.size}<extra></extra>",
         "legendgroup": "Kevin Durant",
         "marker": {
          "color": "#ab63fa",
          "size": [
           29.9
          ],
          "sizemode": "area",
          "sizeref": 0.0765,
          "symbol": "circle"
         },
         "mode": "markers",
         "name": "Kevin Durant",
         "orientation": "v",
         "showlegend": true,
         "type": "scatter",
         "x": [
          37.2
         ],
         "xaxis": "x",
         "y": [
          29.9
         ],
         "yaxis": "y"
        },
        {
         "hovertemplate": "Player=Luka Dončić<br>MP=%{x}<br>PTS=%{marker.size}<extra></extra>",
         "legendgroup": "Luka Dončić",
         "marker": {
          "color": "#FFA15A",
          "size": [
           28.4
          ],
          "sizemode": "area",
          "sizeref": 0.0765,
          "symbol": "circle"
         },
         "mode": "markers",
         "name": "Luka Dončić",
         "orientation": "v",
         "showlegend": true,
         "type": "scatter",
         "x": [
          35.4
         ],
         "xaxis": "x",
         "y": [
          28.4
         ],
         "yaxis": "y"
        },
        {
         "hovertemplate": "Player=Stephen Curry<br>MP=%{x}<br>PTS=%{marker.size}<extra></extra>",
         "legendgroup": "Stephen Curry",
         "marker": {
          "color": "#636efa",
          "size": [
           32
          ],
          "sizemode": "area",
          "sizeref": 0.08,
          "symbol": "circle"
         },
         "mode": "markers",
         "name": "Stephen Curry",
         "orientation": "v",
         "showlegend": true,
         "type": "scatter",
         "x": [
          34.2
         ],
         "xaxis": "x",
         "y": [
          32
         ],
         "yaxis": "y"
        },
        {
         "hovertemplate": "Player=Bradley Beal<br>MP=%{x}<br>PTS=%{marker.size}<extra></extra>",
         "legendgroup": "Bradley Beal",
         "marker": {
          "color": "#EF553B",
          "size": [
           31.3
          ],
          "sizemode": "area",
          "sizeref": 0.08,
          "symbol": "circle"
         },
         "mode": "markers",
         "name": "Bradley Beal",
         "orientation": "v",
         "showlegend": true,
         "type": "scatter",
         "x": [
          35.8
         ],
         "xaxis": "x",
         "y": [
          31.3
         ],
         "yaxis": "y"
        },
        {
         "hovertemplate": "Player=Damian Lillard<br>MP=%{x}<br>PTS=%{marker.size}<extra></extra>",
         "legendgroup": "Damian Lillard",
         "marker": {
          "color": "#00cc96",
          "size": [
           28.8
          ],
          "sizemode": "area",
          "sizeref": 0.08,
          "symbol": "circle"
         },
         "mode": "markers",
         "name": "Damian Lillard",
         "orientation": "v",
         "showlegend": true,
         "type": "scatter",
         "x": [
          35.8
         ],
         "xaxis": "x",
         "y": [
          28.8
         ],
         "yaxis": "y"
        },
        {
         "hovertemplate": "Player=Joel Embiid<br>MP=%{x}<br>PTS=%{marker.size}<extra></extra>",
         "legendgroup": "Joel Embiid",
         "marker": {
          "color": "#ab63fa",
          "size": [
           28.5
          ],
          "sizemode": "area",
          "sizeref": 0.08,
          "symbol": "circle"
         },
         "mode": "markers",
         "name": "Joel Embiid",
         "orientation": "v",
         "showlegend": true,
         "type": "scatter",
         "x": [
          31.1
         ],
         "xaxis": "x",
         "y": [
          28.5
         ],
         "yaxis": "y"
        },
        {
         "hovertemplate": "Player=Giannis Antetokounmpo<br>MP=%{x}<br>PTS=%{marker.size}<extra></extra>",
         "legendgroup": "Giannis Antetokounmpo",
         "marker": {
          "color": "#FFA15A",
          "size": [
           28.1
          ],
          "sizemode": "area",
          "sizeref": 0.08,
          "symbol": "circle"
         },
         "mode": "markers",
         "name": "Giannis Antetokounmpo",
         "orientation": "v",
         "showlegend": true,
         "type": "scatter",
         "x": [
          33
         ],
         "xaxis": "x",
         "y": [
          28.1
         ],
         "yaxis": "y"
        },
        {
         "hovertemplate": "Player=James Harden<br>MP=%{x}<br>PTS=%{marker.size}<extra></extra>",
         "legendgroup": "James Harden",
         "marker": {
          "color": "#636efa",
          "size": [
           34.3
          ],
          "sizemode": "area",
          "sizeref": 0.08574999999999999,
          "symbol": "circle"
         },
         "mode": "markers",
         "name": "James Harden",
         "orientation": "v",
         "showlegend": true,
         "type": "scatter",
         "x": [
          36.5
         ],
         "xaxis": "x",
         "y": [
          34.3
         ],
         "yaxis": "y"
        },
        {
         "hovertemplate": "Player=Bradley Beal<br>MP=%{x}<br>PTS=%{marker.size}<extra></extra>",
         "legendgroup": "Bradley Beal",
         "marker": {
          "color": "#EF553B",
          "size": [
           30.5
          ],
          "sizemode": "area",
          "sizeref": 0.08574999999999999,
          "symbol": "circle"
         },
         "mode": "markers",
         "name": "Bradley Beal",
         "orientation": "v",
         "showlegend": true,
         "type": "scatter",
         "x": [
          36
         ],
         "xaxis": "x",
         "y": [
          30.5
         ],
         "yaxis": "y"
        },
        {
         "hovertemplate": "Player=Damian Lillard<br>MP=%{x}<br>PTS=%{marker.size}<extra></extra>",
         "legendgroup": "Damian Lillard",
         "marker": {
          "color": "#00cc96",
          "size": [
           30
          ],
          "sizemode": "area",
          "sizeref": 0.08574999999999999,
          "symbol": "circle"
         },
         "mode": "markers",
         "name": "Damian Lillard",
         "orientation": "v",
         "showlegend": true,
         "type": "scatter",
         "x": [
          37.5
         ],
         "xaxis": "x",
         "y": [
          30
         ],
         "yaxis": "y"
        },
        {
         "hovertemplate": "Player=Trae Young<br>MP=%{x}<br>PTS=%{marker.size}<extra></extra>",
         "legendgroup": "Trae Young",
         "marker": {
          "color": "#ab63fa",
          "size": [
           29.6
          ],
          "sizemode": "area",
          "sizeref": 0.08574999999999999,
          "symbol": "circle"
         },
         "mode": "markers",
         "name": "Trae Young",
         "orientation": "v",
         "showlegend": true,
         "type": "scatter",
         "x": [
          35.3
         ],
         "xaxis": "x",
         "y": [
          29.6
         ],
         "yaxis": "y"
        },
        {
         "hovertemplate": "Player=Giannis Antetokounmpo<br>MP=%{x}<br>PTS=%{marker.size}<extra></extra>",
         "legendgroup": "Giannis Antetokounmpo",
         "marker": {
          "color": "#FFA15A",
          "size": [
           29.5
          ],
          "sizemode": "area",
          "sizeref": 0.08574999999999999,
          "symbol": "circle"
         },
         "mode": "markers",
         "name": "Giannis Antetokounmpo",
         "orientation": "v",
         "showlegend": true,
         "type": "scatter",
         "x": [
          30.4
         ],
         "xaxis": "x",
         "y": [
          29.5
         ],
         "yaxis": "y"
        },
        {
         "hovertemplate": "Player=James Harden<br>MP=%{x}<br>PTS=%{marker.size}<extra></extra>",
         "legendgroup": "James Harden",
         "marker": {
          "color": "#636efa",
          "size": [
           36.1
          ],
          "sizemode": "area",
          "sizeref": 0.09025,
          "symbol": "circle"
         },
         "mode": "markers",
         "name": "James Harden",
         "orientation": "v",
         "showlegend": true,
         "type": "scatter",
         "x": [
          36.8
         ],
         "xaxis": "x",
         "y": [
          36.1
         ],
         "yaxis": "y"
        },
        {
         "hovertemplate": "Player=Paul George<br>MP=%{x}<br>PTS=%{marker.size}<extra></extra>",
         "legendgroup": "Paul George",
         "marker": {
          "color": "#EF553B",
          "size": [
           28
          ],
          "sizemode": "area",
          "sizeref": 0.09025,
          "symbol": "circle"
         },
         "mode": "markers",
         "name": "Paul George",
         "orientation": "v",
         "showlegend": true,
         "type": "scatter",
         "x": [
          36.9
         ],
         "xaxis": "x",
         "y": [
          28
         ],
         "yaxis": "y"
        },
        {
         "hovertemplate": "Player=Giannis Antetokounmpo<br>MP=%{x}<br>PTS=%{marker.size}<extra></extra>",
         "legendgroup": "Giannis Antetokounmpo",
         "marker": {
          "color": "#00cc96",
          "size": [
           27.7
          ],
          "sizemode": "area",
          "sizeref": 0.09025,
          "symbol": "circle"
         },
         "mode": "markers",
         "name": "Giannis Antetokounmpo",
         "orientation": "v",
         "showlegend": true,
         "type": "scatter",
         "x": [
          32.8
         ],
         "xaxis": "x",
         "y": [
          27.7
         ],
         "yaxis": "y"
        },
        {
         "hovertemplate": "Player=Joel Embiid<br>MP=%{x}<br>PTS=%{marker.size}<extra></extra>",
         "legendgroup": "Joel Embiid",
         "marker": {
          "color": "#ab63fa",
          "size": [
           27.5
          ],
          "sizemode": "area",
          "sizeref": 0.09025,
          "symbol": "circle"
         },
         "mode": "markers",
         "name": "Joel Embiid",
         "orientation": "v",
         "showlegend": true,
         "type": "scatter",
         "x": [
          33.7
         ],
         "xaxis": "x",
         "y": [
          27.5
         ],
         "yaxis": "y"
        },
        {
         "hovertemplate": "Player=LeBron James<br>MP=%{x}<br>PTS=%{marker.size}<extra></extra>",
         "legendgroup": "LeBron James",
         "marker": {
          "color": "#FFA15A",
          "size": [
           27.4
          ],
          "sizemode": "area",
          "sizeref": 0.09025,
          "symbol": "circle"
         },
         "mode": "markers",
         "name": "LeBron James",
         "orientation": "v",
         "showlegend": true,
         "type": "scatter",
         "x": [
          35.2
         ],
         "xaxis": "x",
         "y": [
          27.4
         ],
         "yaxis": "y"
        },
        {
         "hovertemplate": "Player=James Harden<br>MP=%{x}<br>PTS=%{marker.size}<extra></extra>",
         "legendgroup": "James Harden",
         "marker": {
          "color": "#636efa",
          "size": [
           30.4
          ],
          "sizemode": "area",
          "sizeref": 0.076,
          "symbol": "circle"
         },
         "mode": "markers",
         "name": "James Harden",
         "orientation": "v",
         "showlegend": true,
         "type": "scatter",
         "x": [
          35.4
         ],
         "xaxis": "x",
         "y": [
          30.4
         ],
         "yaxis": "y"
        },
        {
         "hovertemplate": "Player=Anthony Davis<br>MP=%{x}<br>PTS=%{marker.size}<extra></extra>",
         "legendgroup": "Anthony Davis",
         "marker": {
          "color": "#EF553B",
          "size": [
           28.1
          ],
          "sizemode": "area",
          "sizeref": 0.076,
          "symbol": "circle"
         },
         "mode": "markers",
         "name": "Anthony Davis",
         "orientation": "v",
         "showlegend": true,
         "type": "scatter",
         "x": [
          36.4
         ],
         "xaxis": "x",
         "y": [
          28.1
         ],
         "yaxis": "y"
        },
        {
         "hovertemplate": "Player=LeBron James<br>MP=%{x}<br>PTS=%{marker.size}<extra></extra>",
         "legendgroup": "LeBron James",
         "marker": {
          "color": "#00cc96",
          "size": [
           27.5
          ],
          "sizemode": "area",
          "sizeref": 0.076,
          "symbol": "circle"
         },
         "mode": "markers",
         "name": "LeBron James",
         "orientation": "v",
         "showlegend": true,
         "type": "scatter",
         "x": [
          36.9
         ],
         "xaxis": "x",
         "y": [
          27.5
         ],
         "yaxis": "y"
        },
        {
         "hovertemplate": "Player=Giannis Antetokounmpo<br>MP=%{x}<br>PTS=%{marker.size}<extra></extra>",
         "legendgroup": "Giannis Antetokounmpo",
         "marker": {
          "color": "#ab63fa",
          "size": [
           26.9
          ],
          "sizemode": "area",
          "sizeref": 0.076,
          "symbol": "circle"
         },
         "mode": "markers",
         "name": "Giannis Antetokounmpo",
         "orientation": "v",
         "showlegend": true,
         "type": "scatter",
         "x": [
          36.7
         ],
         "xaxis": "x",
         "y": [
          26.9
         ],
         "yaxis": "y"
        },
        {
         "hovertemplate": "Player=Damian Lillard<br>MP=%{x}<br>PTS=%{marker.size}<extra></extra>",
         "legendgroup": "Damian Lillard",
         "marker": {
          "color": "#FFA15A",
          "size": [
           26.9
          ],
          "sizemode": "area",
          "sizeref": 0.076,
          "symbol": "circle"
         },
         "mode": "markers",
         "name": "Damian Lillard",
         "orientation": "v",
         "showlegend": true,
         "type": "scatter",
         "x": [
          36.6
         ],
         "xaxis": "x",
         "y": [
          26.9
         ],
         "yaxis": "y"
        },
        {
         "hovertemplate": "Player=Russell Westbrook<br>MP=%{x}<br>PTS=%{marker.size}<extra></extra>",
         "legendgroup": "Russell Westbrook",
         "marker": {
          "color": "#636efa",
          "size": [
           31.6
          ],
          "sizemode": "area",
          "sizeref": 0.079,
          "symbol": "circle"
         },
         "mode": "markers",
         "name": "Russell Westbrook",
         "orientation": "v",
         "showlegend": true,
         "type": "scatter",
         "x": [
          34.6
         ],
         "xaxis": "x",
         "y": [
          31.6
         ],
         "yaxis": "y"
        },
        {
         "hovertemplate": "Player=James Harden<br>MP=%{x}<br>PTS=%{marker.size}<extra></extra>",
         "legendgroup": "James Harden",
         "marker": {
          "color": "#EF553B",
          "size": [
           29.1
          ],
          "sizemode": "area",
          "sizeref": 0.079,
          "symbol": "circle"
         },
         "mode": "markers",
         "name": "James Harden",
         "orientation": "v",
         "showlegend": true,
         "type": "scatter",
         "x": [
          36.4
         ],
         "xaxis": "x",
         "y": [
          29.1
         ],
         "yaxis": "y"
        },
        {
         "hovertemplate": "Player=Isaiah Thomas<br>MP=%{x}<br>PTS=%{marker.size}<extra></extra>",
         "legendgroup": "Isaiah Thomas",
         "marker": {
          "color": "#00cc96",
          "size": [
           28.9
          ],
          "sizemode": "area",
          "sizeref": 0.079,
          "symbol": "circle"
         },
         "mode": "markers",
         "name": "Isaiah Thomas",
         "orientation": "v",
         "showlegend": true,
         "type": "scatter",
         "x": [
          33.8
         ],
         "xaxis": "x",
         "y": [
          28.9
         ],
         "yaxis": "y"
        },
        {
         "hovertemplate": "Player=Anthony Davis<br>MP=%{x}<br>PTS=%{marker.size}<extra></extra>",
         "legendgroup": "Anthony Davis",
         "marker": {
          "color": "#ab63fa",
          "size": [
           28
          ],
          "sizemode": "area",
          "sizeref": 0.079,
          "symbol": "circle"
         },
         "mode": "markers",
         "name": "Anthony Davis",
         "orientation": "v",
         "showlegend": true,
         "type": "scatter",
         "x": [
          36.1
         ],
         "xaxis": "x",
         "y": [
          28
         ],
         "yaxis": "y"
        },
        {
         "hovertemplate": "Player=DeMarcus Cousins<br>MP=%{x}<br>PTS=%{marker.size}<extra></extra>",
         "legendgroup": "DeMarcus Cousins",
         "marker": {
          "color": "#FFA15A",
          "size": [
           27.8
          ],
          "sizemode": "area",
          "sizeref": 0.079,
          "symbol": "circle"
         },
         "mode": "markers",
         "name": "DeMarcus Cousins",
         "orientation": "v",
         "showlegend": true,
         "type": "scatter",
         "x": [
          34.4
         ],
         "xaxis": "x",
         "y": [
          27.8
         ],
         "yaxis": "y"
        },
        {
         "hovertemplate": "Player=Stephen Curry<br>MP=%{x}<br>PTS=%{marker.size}<extra></extra>",
         "legendgroup": "Stephen Curry",
         "marker": {
          "color": "#636efa",
          "size": [
           30.1
          ],
          "sizemode": "area",
          "sizeref": 0.07525,
          "symbol": "circle"
         },
         "mode": "markers",
         "name": "Stephen Curry",
         "orientation": "v",
         "showlegend": true,
         "type": "scatter",
         "x": [
          34.2
         ],
         "xaxis": "x",
         "y": [
          30.1
         ],
         "yaxis": "y"
        },
        {
         "hovertemplate": "Player=James Harden<br>MP=%{x}<br>PTS=%{marker.size}<extra></extra>",
         "legendgroup": "James Harden",
         "marker": {
          "color": "#EF553B",
          "size": [
           29
          ],
          "sizemode": "area",
          "sizeref": 0.07525,
          "symbol": "circle"
         },
         "mode": "markers",
         "name": "James Harden",
         "orientation": "v",
         "showlegend": true,
         "type": "scatter",
         "x": [
          38.1
         ],
         "xaxis": "x",
         "y": [
          29
         ],
         "yaxis": "y"
        },
        {
         "hovertemplate": "Player=Kevin Durant<br>MP=%{x}<br>PTS=%{marker.size}<extra></extra>",
         "legendgroup": "Kevin Durant",
         "marker": {
          "color": "#00cc96",
          "size": [
           28.2
          ],
          "sizemode": "area",
          "sizeref": 0.07525,
          "symbol": "circle"
         },
         "mode": "markers",
         "name": "Kevin Durant",
         "orientation": "v",
         "showlegend": true,
         "type": "scatter",
         "x": [
          35.8
         ],
         "xaxis": "x",
         "y": [
          28.2
         ],
         "yaxis": "y"
        },
        {
         "hovertemplate": "Player=DeMarcus Cousins<br>MP=%{x}<br>PTS=%{marker.size}<extra></extra>",
         "legendgroup": "DeMarcus Cousins",
         "marker": {
          "color": "#ab63fa",
          "size": [
           26.9
          ],
          "sizemode": "area",
          "sizeref": 0.07525,
          "symbol": "circle"
         },
         "mode": "markers",
         "name": "DeMarcus Cousins",
         "orientation": "v",
         "showlegend": true,
         "type": "scatter",
         "x": [
          34.6
         ],
         "xaxis": "x",
         "y": [
          26.9
         ],
         "yaxis": "y"
        },
        {
         "hovertemplate": "Player=LeBron James<br>MP=%{x}<br>PTS=%{marker.size}<extra></extra>",
         "legendgroup": "LeBron James",
         "marker": {
          "color": "#FFA15A",
          "size": [
           25.3
          ],
          "sizemode": "area",
          "sizeref": 0.07525,
          "symbol": "circle"
         },
         "mode": "markers",
         "name": "LeBron James",
         "orientation": "v",
         "showlegend": true,
         "type": "scatter",
         "x": [
          35.6
         ],
         "xaxis": "x",
         "y": [
          25.3
         ],
         "yaxis": "y"
        },
        {
         "hovertemplate": "Player=Russell Westbrook<br>MP=%{x}<br>PTS=%{marker.size}<extra></extra>",
         "legendgroup": "Russell Westbrook",
         "marker": {
          "color": "#636efa",
          "size": [
           28.1
          ],
          "sizemode": "area",
          "sizeref": 0.07025,
          "symbol": "circle"
         },
         "mode": "markers",
         "name": "Russell Westbrook",
         "orientation": "v",
         "showlegend": true,
         "type": "scatter",
         "x": [
          34.4
         ],
         "xaxis": "x",
         "y": [
          28.1
         ],
         "yaxis": "y"
        },
        {
         "hovertemplate": "Player=James Harden<br>MP=%{x}<br>PTS=%{marker.size}<extra></extra>",
         "legendgroup": "James Harden",
         "marker": {
          "color": "#EF553B",
          "size": [
           27.4
          ],
          "sizemode": "area",
          "sizeref": 0.07025,
          "symbol": "circle"
         },
         "mode": "markers",
         "name": "James Harden",
         "orientation": "v",
         "showlegend": true,
         "type": "scatter",
         "x": [
          36.8
         ],
         "xaxis": "x",
         "y": [
          27.4
         ],
         "yaxis": "y"
        },
        {
         "hovertemplate": "Player=Kevin Durant<br>MP=%{x}<br>PTS=%{marker.size}<extra></extra>",
         "legendgroup": "Kevin Durant",
         "marker": {
          "color": "#00cc96",
          "size": [
           25.4
          ],
          "sizemode": "area",
          "sizeref": 0.07025,
          "symbol": "circle"
         },
         "mode": "markers",
         "name": "Kevin Durant",
         "orientation": "v",
         "showlegend": true,
         "type": "scatter",
         "x": [
          33.8
         ],
         "xaxis": "x",
         "y": [
          25.4
         ],
         "yaxis": "y"
        },
        {
         "hovertemplate": "Player=LeBron James<br>MP=%{x}<br>PTS=%{marker.size}<extra></extra>",
         "legendgroup": "LeBron James",
         "marker": {
          "color": "#ab63fa",
          "size": [
           25.3
          ],
          "sizemode": "area",
          "sizeref": 0.07025,
          "symbol": "circle"
         },
         "mode": "markers",
         "name": "LeBron James",
         "orientation": "v",
         "showlegend": true,
         "type": "scatter",
         "x": [
          36.1
         ],
         "xaxis": "x",
         "y": [
          25.3
         ],
         "yaxis": "y"
        },
        {
         "hovertemplate": "Player=Anthony Davis<br>MP=%{x}<br>PTS=%{marker.size}<extra></extra>",
         "legendgroup": "Anthony Davis",
         "marker": {
          "color": "#FFA15A",
          "size": [
           24.4
          ],
          "sizemode": "area",
          "sizeref": 0.07025,
          "symbol": "circle"
         },
         "mode": "markers",
         "name": "Anthony Davis",
         "orientation": "v",
         "showlegend": true,
         "type": "scatter",
         "x": [
          36.1
         ],
         "xaxis": "x",
         "y": [
          24.4
         ],
         "yaxis": "y"
        }
       ],
       "layout": {
        "template": {
         "data": {
          "bar": [
           {
            "error_x": {
             "color": "#2a3f5f"
            },
            "error_y": {
             "color": "#2a3f5f"
            },
            "marker": {
             "line": {
              "color": "#E5ECF6",
              "width": 0.5
             },
             "pattern": {
              "fillmode": "overlay",
              "size": 10,
              "solidity": 0.2
             }
            },
            "type": "bar"
           }
          ],
          "barpolar": [
           {
            "marker": {
             "line": {
              "color": "#E5ECF6",
              "width": 0.5
             },
             "pattern": {
              "fillmode": "overlay",
              "size": 10,
              "solidity": 0.2
             }
            },
            "type": "barpolar"
           }
          ],
          "carpet": [
           {
            "aaxis": {
             "endlinecolor": "#2a3f5f",
             "gridcolor": "white",
             "linecolor": "white",
             "minorgridcolor": "white",
             "startlinecolor": "#2a3f5f"
            },
            "baxis": {
             "endlinecolor": "#2a3f5f",
             "gridcolor": "white",
             "linecolor": "white",
             "minorgridcolor": "white",
             "startlinecolor": "#2a3f5f"
            },
            "type": "carpet"
           }
          ],
          "choropleth": [
           {
            "colorbar": {
             "outlinewidth": 0,
             "ticks": ""
            },
            "type": "choropleth"
           }
          ],
          "contour": [
           {
            "colorbar": {
             "outlinewidth": 0,
             "ticks": ""
            },
            "colorscale": [
             [
              0,
              "#0d0887"
             ],
             [
              0.1111111111111111,
              "#46039f"
             ],
             [
              0.2222222222222222,
              "#7201a8"
             ],
             [
              0.3333333333333333,
              "#9c179e"
             ],
             [
              0.4444444444444444,
              "#bd3786"
             ],
             [
              0.5555555555555556,
              "#d8576b"
             ],
             [
              0.6666666666666666,
              "#ed7953"
             ],
             [
              0.7777777777777778,
              "#fb9f3a"
             ],
             [
              0.8888888888888888,
              "#fdca26"
             ],
             [
              1,
              "#f0f921"
             ]
            ],
            "type": "contour"
           }
          ],
          "contourcarpet": [
           {
            "colorbar": {
             "outlinewidth": 0,
             "ticks": ""
            },
            "type": "contourcarpet"
           }
          ],
          "heatmap": [
           {
            "colorbar": {
             "outlinewidth": 0,
             "ticks": ""
            },
            "colorscale": [
             [
              0,
              "#0d0887"
             ],
             [
              0.1111111111111111,
              "#46039f"
             ],
             [
              0.2222222222222222,
              "#7201a8"
             ],
             [
              0.3333333333333333,
              "#9c179e"
             ],
             [
              0.4444444444444444,
              "#bd3786"
             ],
             [
              0.5555555555555556,
              "#d8576b"
             ],
             [
              0.6666666666666666,
              "#ed7953"
             ],
             [
              0.7777777777777778,
              "#fb9f3a"
             ],
             [
              0.8888888888888888,
              "#fdca26"
             ],
             [
              1,
              "#f0f921"
             ]
            ],
            "type": "heatmap"
           }
          ],
          "heatmapgl": [
           {
            "colorbar": {
             "outlinewidth": 0,
             "ticks": ""
            },
            "colorscale": [
             [
              0,
              "#0d0887"
             ],
             [
              0.1111111111111111,
              "#46039f"
             ],
             [
              0.2222222222222222,
              "#7201a8"
             ],
             [
              0.3333333333333333,
              "#9c179e"
             ],
             [
              0.4444444444444444,
              "#bd3786"
             ],
             [
              0.5555555555555556,
              "#d8576b"
             ],
             [
              0.6666666666666666,
              "#ed7953"
             ],
             [
              0.7777777777777778,
              "#fb9f3a"
             ],
             [
              0.8888888888888888,
              "#fdca26"
             ],
             [
              1,
              "#f0f921"
             ]
            ],
            "type": "heatmapgl"
           }
          ],
          "histogram": [
           {
            "marker": {
             "pattern": {
              "fillmode": "overlay",
              "size": 10,
              "solidity": 0.2
             }
            },
            "type": "histogram"
           }
          ],
          "histogram2d": [
           {
            "colorbar": {
             "outlinewidth": 0,
             "ticks": ""
            },
            "colorscale": [
             [
              0,
              "#0d0887"
             ],
             [
              0.1111111111111111,
              "#46039f"
             ],
             [
              0.2222222222222222,
              "#7201a8"
             ],
             [
              0.3333333333333333,
              "#9c179e"
             ],
             [
              0.4444444444444444,
              "#bd3786"
             ],
             [
              0.5555555555555556,
              "#d8576b"
             ],
             [
              0.6666666666666666,
              "#ed7953"
             ],
             [
              0.7777777777777778,
              "#fb9f3a"
             ],
             [
              0.8888888888888888,
              "#fdca26"
             ],
             [
              1,
              "#f0f921"
             ]
            ],
            "type": "histogram2d"
           }
          ],
          "histogram2dcontour": [
           {
            "colorbar": {
             "outlinewidth": 0,
             "ticks": ""
            },
            "colorscale": [
             [
              0,
              "#0d0887"
             ],
             [
              0.1111111111111111,
              "#46039f"
             ],
             [
              0.2222222222222222,
              "#7201a8"
             ],
             [
              0.3333333333333333,
              "#9c179e"
             ],
             [
              0.4444444444444444,
              "#bd3786"
             ],
             [
              0.5555555555555556,
              "#d8576b"
             ],
             [
              0.6666666666666666,
              "#ed7953"
             ],
             [
              0.7777777777777778,
              "#fb9f3a"
             ],
             [
              0.8888888888888888,
              "#fdca26"
             ],
             [
              1,
              "#f0f921"
             ]
            ],
            "type": "histogram2dcontour"
           }
          ],
          "mesh3d": [
           {
            "colorbar": {
             "outlinewidth": 0,
             "ticks": ""
            },
            "type": "mesh3d"
           }
          ],
          "parcoords": [
           {
            "line": {
             "colorbar": {
              "outlinewidth": 0,
              "ticks": ""
             }
            },
            "type": "parcoords"
           }
          ],
          "pie": [
           {
            "automargin": true,
            "type": "pie"
           }
          ],
          "scatter": [
           {
            "fillpattern": {
             "fillmode": "overlay",
             "size": 10,
             "solidity": 0.2
            },
            "type": "scatter"
           }
          ],
          "scatter3d": [
           {
            "line": {
             "colorbar": {
              "outlinewidth": 0,
              "ticks": ""
             }
            },
            "marker": {
             "colorbar": {
              "outlinewidth": 0,
              "ticks": ""
             }
            },
            "type": "scatter3d"
           }
          ],
          "scattercarpet": [
           {
            "marker": {
             "colorbar": {
              "outlinewidth": 0,
              "ticks": ""
             }
            },
            "type": "scattercarpet"
           }
          ],
          "scattergeo": [
           {
            "marker": {
             "colorbar": {
              "outlinewidth": 0,
              "ticks": ""
             }
            },
            "type": "scattergeo"
           }
          ],
          "scattergl": [
           {
            "marker": {
             "colorbar": {
              "outlinewidth": 0,
              "ticks": ""
             }
            },
            "type": "scattergl"
           }
          ],
          "scattermapbox": [
           {
            "marker": {
             "colorbar": {
              "outlinewidth": 0,
              "ticks": ""
             }
            },
            "type": "scattermapbox"
           }
          ],
          "scatterpolar": [
           {
            "marker": {
             "colorbar": {
              "outlinewidth": 0,
              "ticks": ""
             }
            },
            "type": "scatterpolar"
           }
          ],
          "scatterpolargl": [
           {
            "marker": {
             "colorbar": {
              "outlinewidth": 0,
              "ticks": ""
             }
            },
            "type": "scatterpolargl"
           }
          ],
          "scatterternary": [
           {
            "marker": {
             "colorbar": {
              "outlinewidth": 0,
              "ticks": ""
             }
            },
            "type": "scatterternary"
           }
          ],
          "surface": [
           {
            "colorbar": {
             "outlinewidth": 0,
             "ticks": ""
            },
            "colorscale": [
             [
              0,
              "#0d0887"
             ],
             [
              0.1111111111111111,
              "#46039f"
             ],
             [
              0.2222222222222222,
              "#7201a8"
             ],
             [
              0.3333333333333333,
              "#9c179e"
             ],
             [
              0.4444444444444444,
              "#bd3786"
             ],
             [
              0.5555555555555556,
              "#d8576b"
             ],
             [
              0.6666666666666666,
              "#ed7953"
             ],
             [
              0.7777777777777778,
              "#fb9f3a"
             ],
             [
              0.8888888888888888,
              "#fdca26"
             ],
             [
              1,
              "#f0f921"
             ]
            ],
            "type": "surface"
           }
          ],
          "table": [
           {
            "cells": {
             "fill": {
              "color": "#EBF0F8"
             },
             "line": {
              "color": "white"
             }
            },
            "header": {
             "fill": {
              "color": "#C8D4E3"
             },
             "line": {
              "color": "white"
             }
            },
            "type": "table"
           }
          ]
         },
         "layout": {
          "annotationdefaults": {
           "arrowcolor": "#2a3f5f",
           "arrowhead": 0,
           "arrowwidth": 1
          },
          "autotypenumbers": "strict",
          "coloraxis": {
           "colorbar": {
            "outlinewidth": 0,
            "ticks": ""
           }
          },
          "colorscale": {
           "diverging": [
            [
             0,
             "#8e0152"
            ],
            [
             0.1,
             "#c51b7d"
            ],
            [
             0.2,
             "#de77ae"
            ],
            [
             0.3,
             "#f1b6da"
            ],
            [
             0.4,
             "#fde0ef"
            ],
            [
             0.5,
             "#f7f7f7"
            ],
            [
             0.6,
             "#e6f5d0"
            ],
            [
             0.7,
             "#b8e186"
            ],
            [
             0.8,
             "#7fbc41"
            ],
            [
             0.9,
             "#4d9221"
            ],
            [
             1,
             "#276419"
            ]
           ],
           "sequential": [
            [
             0,
             "#0d0887"
            ],
            [
             0.1111111111111111,
             "#46039f"
            ],
            [
             0.2222222222222222,
             "#7201a8"
            ],
            [
             0.3333333333333333,
             "#9c179e"
            ],
            [
             0.4444444444444444,
             "#bd3786"
            ],
            [
             0.5555555555555556,
             "#d8576b"
            ],
            [
             0.6666666666666666,
             "#ed7953"
            ],
            [
             0.7777777777777778,
             "#fb9f3a"
            ],
            [
             0.8888888888888888,
             "#fdca26"
            ],
            [
             1,
             "#f0f921"
            ]
           ],
           "sequentialminus": [
            [
             0,
             "#0d0887"
            ],
            [
             0.1111111111111111,
             "#46039f"
            ],
            [
             0.2222222222222222,
             "#7201a8"
            ],
            [
             0.3333333333333333,
             "#9c179e"
            ],
            [
             0.4444444444444444,
             "#bd3786"
            ],
            [
             0.5555555555555556,
             "#d8576b"
            ],
            [
             0.6666666666666666,
             "#ed7953"
            ],
            [
             0.7777777777777778,
             "#fb9f3a"
            ],
            [
             0.8888888888888888,
             "#fdca26"
            ],
            [
             1,
             "#f0f921"
            ]
           ]
          },
          "colorway": [
           "#636efa",
           "#EF553B",
           "#00cc96",
           "#ab63fa",
           "#FFA15A",
           "#19d3f3",
           "#FF6692",
           "#B6E880",
           "#FF97FF",
           "#FECB52"
          ],
          "font": {
           "color": "#2a3f5f"
          },
          "geo": {
           "bgcolor": "white",
           "lakecolor": "white",
           "landcolor": "#E5ECF6",
           "showlakes": true,
           "showland": true,
           "subunitcolor": "white"
          },
          "hoverlabel": {
           "align": "left"
          },
          "hovermode": "closest",
          "mapbox": {
           "style": "light"
          },
          "paper_bgcolor": "white",
          "plot_bgcolor": "#E5ECF6",
          "polar": {
           "angularaxis": {
            "gridcolor": "white",
            "linecolor": "white",
            "ticks": ""
           },
           "bgcolor": "#E5ECF6",
           "radialaxis": {
            "gridcolor": "white",
            "linecolor": "white",
            "ticks": ""
           }
          },
          "scene": {
           "xaxis": {
            "backgroundcolor": "#E5ECF6",
            "gridcolor": "white",
            "gridwidth": 2,
            "linecolor": "white",
            "showbackground": true,
            "ticks": "",
            "zerolinecolor": "white"
           },
           "yaxis": {
            "backgroundcolor": "#E5ECF6",
            "gridcolor": "white",
            "gridwidth": 2,
            "linecolor": "white",
            "showbackground": true,
            "ticks": "",
            "zerolinecolor": "white"
           },
           "zaxis": {
            "backgroundcolor": "#E5ECF6",
            "gridcolor": "white",
            "gridwidth": 2,
            "linecolor": "white",
            "showbackground": true,
            "ticks": "",
            "zerolinecolor": "white"
           }
          },
          "shapedefaults": {
           "line": {
            "color": "#2a3f5f"
           }
          },
          "ternary": {
           "aaxis": {
            "gridcolor": "white",
            "linecolor": "white",
            "ticks": ""
           },
           "baxis": {
            "gridcolor": "white",
            "linecolor": "white",
            "ticks": ""
           },
           "bgcolor": "#E5ECF6",
           "caxis": {
            "gridcolor": "white",
            "linecolor": "white",
            "ticks": ""
           }
          },
          "title": {
           "x": 0.05
          },
          "xaxis": {
           "automargin": true,
           "gridcolor": "white",
           "linecolor": "white",
           "ticks": "",
           "title": {
            "standoff": 15
           },
           "zerolinecolor": "white",
           "zerolinewidth": 2
          },
          "yaxis": {
           "automargin": true,
           "gridcolor": "white",
           "linecolor": "white",
           "ticks": "",
           "title": {
            "standoff": 15
           },
           "zerolinecolor": "white",
           "zerolinewidth": 2
          }
         }
        },
        "xaxis": {
         "title": {
          "text": "Minutes Played"
         }
        },
        "yaxis": {
         "title": {
          "text": "Points Per Game"
         }
        }
       }
      }
     },
     "metadata": {},
     "output_type": "display_data"
    }
   ],
   "source": [
    "fig1 = px.scatter(top_scorer_2021_2022, x='MP', y='PTS', color='Player',\n",
    "                 size='PTS', hover_data=['MP'])\n",
    "\n",
    "fig2 = px.scatter(top_scorer_2020_2021, x='MP', y='PTS', color='Player',\n",
    "                 size='PTS', hover_data=['MP'])\n",
    "\n",
    "fig3 = px.scatter(top_scorer_2019_2020, x='MP', y='PTS', color='Player',\n",
    "                 size='PTS', hover_data=['MP'])\n",
    "\n",
    "fig4 = px.scatter(top_scorer_2018_2019, x='MP', y='PTS', color='Player',\n",
    "                 size='PTS', hover_data=['MP'])\n",
    "\n",
    "fig5 = px.scatter(top_scorer_2017_2018, x='MP', y='PTS', color='Player',\n",
    "                 size='PTS', hover_data=['MP'])\n",
    "\n",
    "fig6 = px.scatter(top_scorer_2016_2017, x='MP', y='PTS', color='Player',\n",
    "                 size='PTS', hover_data=['MP'])\n",
    "\n",
    "fig7 = px.scatter(top_scorer_2015_2016, x='MP', y='PTS', color='Player',\n",
    "                 size='PTS', hover_data=['MP'])\n",
    "\n",
    "fig8 = px.scatter(top_scorer_2014_2015, x='MP', y='PTS', color='Player',\n",
    "                 size='PTS', hover_data=['MP'])\n",
    "\n",
    "\n",
    "fig9 = go.Figure(data=fig1.data + fig2.data + fig3.data + fig4.data + fig5.data + fig6.data \n",
    "                    + fig7.data + fig8.data)\n",
    "\n",
    "fig9.update_xaxes(title_text = \"Minutes Played\")\n",
    "fig9.update_yaxes(title_text = \"Points Per Game\")\n",
    "fig9.show()"
   ]
  },
  {
   "cell_type": "markdown",
   "metadata": {},
   "source": [
    "From looking at the graph minutes played does not always mean more points averaged in a season."
   ]
  },
  {
   "cell_type": "code",
   "execution_count": null,
   "metadata": {},
   "outputs": [],
   "source": []
  }
 ],
 "metadata": {
  "interpreter": {
   "hash": "70ad1454d5f115c2cc29006bd8ec363930c9272a3e5f38bcd9d125dc720aa23b"
  },
  "kernelspec": {
   "display_name": "Python 3.10.4",
   "language": "python",
   "name": "python3"
  },
  "language_info": {
   "codemirror_mode": {
    "name": "ipython",
    "version": 3
   },
   "file_extension": ".py",
   "mimetype": "text/x-python",
   "name": "python",
   "nbconvert_exporter": "python",
   "pygments_lexer": "ipython3",
   "version": "3.10.4"
  },
  "orig_nbformat": 4
 },
 "nbformat": 4,
 "nbformat_minor": 2
}
